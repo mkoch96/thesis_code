{
 "cells": [
  {
   "cell_type": "markdown",
   "metadata": {},
   "source": [
    "            ----- MADRS prediction 24h segments -----"
   ]
  },
  {
   "cell_type": "markdown",
   "metadata": {},
   "source": [
    "Importing libraries"
   ]
  },
  {
   "cell_type": "code",
   "execution_count": 1,
   "metadata": {},
   "outputs": [],
   "source": [
    "import numpy as np\n",
    "import pandas as pd\n",
    "import seaborn as sns\n",
    "\n",
    "from sklearn.model_selection import train_test_split, cross_val_score, KFold\n",
    "from sklearn.preprocessing import StandardScaler, MinMaxScaler \n",
    "from sklearn.metrics import accuracy_score, classification_report, confusion_matrix \n",
    "from sklearn.metrics import mean_squared_error\n",
    "\n",
    "import os\n",
    "import sys\n",
    "import random\n",
    "\n",
    "from matplotlib import pyplot as plt\n",
    "\n",
    "import tensorflow as tf\n",
    "from tensorflow import keras\n",
    "from tensorflow.keras.layers import Input, Dense, Dropout\n",
    "from tensorflow.keras import backend as K\n",
    "from tensorflow.keras.optimizers import SGD, Nadam, Adam\n",
    "from tensorflow.keras.utils import to_categorical\n",
    "from tensorflow.keras.callbacks import TensorBoard, EarlyStopping, ModelCheckpoint\n",
    "from tensorflow.keras.wrappers.scikit_learn import KerasRegressor\n",
    "from tensorflow.keras.models import Sequential, load_model\n",
    "\n",
    "from keras.models import Sequential\n",
    "from keras.layers import Dense, LSTM, Dropout\n",
    "from keras import optimizers\n",
    "\n",
    "import math"
   ]
  },
  {
   "cell_type": "code",
   "execution_count": 3,
   "metadata": {},
   "outputs": [],
   "source": [
    "# hyperparameters\n",
    "\n",
    "step = 60 \n",
    "batch_size = 16\n",
    "optimizer = optimizers.Adam(lr = 0.00001) # learning rate is very low, otherwise the gradients exploded\n",
    "verbose = 1\n",
    "data_dir = \"Downloads/depression_data\"\n",
    "segment_length = 1440\n",
    "learning_rate = 0.0001"
   ]
  },
  {
   "cell_type": "markdown",
   "metadata": {},
   "source": [
    "Function for creating the segments and corresponding labels for MADRS prediction\n",
    " - it will read scores.csv (with all the demographics etc), and generates:\n",
    "     -> one list of time sliced sequences\n",
    "     -> one list of the corresponding participants' labels (madrs scores)"
   ]
  },
  {
   "cell_type": "code",
   "execution_count": 4,
   "metadata": {},
   "outputs": [
    {
     "name": "stdout",
     "output_type": "stream",
     "text": [
      "(array([[  0., 143.,   0., ..., 306.,  91., 296.],\n",
      "       [306., 286.,  12., ...,  58.,  17., 386.],\n",
      "       [  0.,   0.,  21., ...,  73., 172., 306.],\n",
      "       ...,\n",
      "       [  0.,   0.,   0., ...,   0.,   0.,   0.],\n",
      "       [  0.,   0.,   0., ...,   0.,   0.,   0.],\n",
      "       [  0.,   0.,   0., ...,   0.,   0.,   0.]], dtype=float32), array([19., 19., 19., ...,  0.,  0.,  0.], dtype=float32), 1440)\n"
     ]
    }
   ],
   "source": [
    "def segments_and_labels(dataset_dir, segment_length, step):\n",
    "    scores = pd.read_csv(os.path.join(dataset_dir, 'scores.csv'))\n",
    "    scores['madrs2'].fillna(0, inplace=True)\n",
    "\n",
    "    segments = []\n",
    "    labels = []\n",
    "\n",
    "    for person in scores['number']:\n",
    "        p = scores[scores['number'] == person]\n",
    "        filepath = os.path.join(dataset_dir, person.split('_')[0], f'{person}.csv')\n",
    "        df_activity = pd.read_csv(filepath)\n",
    "\n",
    "        for i in range(0, len(df_activity) - segment_length, step):\n",
    "            segment = df_activity['activity'].values[i : i + segment_length]\n",
    "            \n",
    "            segments.append([segment])\n",
    "            labels.append(p['madrs2'].values[0])\n",
    "\n",
    "    segments = np.asarray(segments)\n",
    "    segments = segments.reshape(-1, segment_length, 1)\n",
    "\n",
    "    input_shape = segments.shape[1]\n",
    "    segments = segments.reshape(segments.shape[0], input_shape).astype('float32')\n",
    "    labels = np.asarray(labels).astype('float32')\n",
    "\n",
    "    return segments, labels, input_shape\n",
    "\n",
    "print(segments_and_labels(data_dir,segment_length,step))"
   ]
  },
  {
   "cell_type": "markdown",
   "metadata": {},
   "source": [
    "Splitting dataset, later I will add a validation set as well"
   ]
  },
  {
   "cell_type": "code",
   "execution_count": 5,
   "metadata": {},
   "outputs": [
    {
     "name": "stdout",
     "output_type": "stream",
     "text": [
      "(19920, 1440)\n",
      "\n",
      "(4981, 1440)\n",
      "\n",
      "(19920,)\n",
      "\n",
      "(4981,)\n"
     ]
    }
   ],
   "source": [
    "segments, labels, input_shape = segments_and_labels(data_dir,segment_length,step)\n",
    "\n",
    "X_train, X_test, y_train, y_test = train_test_split(segments, labels, test_size=0.2, random_state=777)\n",
    "print(X_train.shape)\n",
    "print()\n",
    "print(X_test.shape)\n",
    "print()\n",
    "print(y_train.shape)\n",
    "print()\n",
    "print(y_test.shape)"
   ]
  },
  {
   "cell_type": "code",
   "execution_count": null,
   "metadata": {},
   "outputs": [],
   "source": [
    "Normalization"
   ]
  },
  {
   "cell_type": "code",
   "execution_count": 7,
   "metadata": {},
   "outputs": [
    {
     "name": "stdout",
     "output_type": "stream",
     "text": [
      "(19920, 1440)\n",
      "\n",
      "(4981, 1440)\n",
      "\n",
      "(19920, 1)\n",
      "\n",
      "(4981, 1)\n"
     ]
    }
   ],
   "source": [
    "sc = MinMaxScaler(feature_range = (0,1))\n",
    "X_train_scaled = sc.fit_transform(X_train)\n",
    "X_test_scaled = sc.fit_transform(X_test)\n",
    "y_train_scaled = sc.fit_transform(y_train.reshape(-1,1))\n",
    "y_test_scaled = sc.fit_transform(y_test.reshape(-1,1))\n",
    "\n",
    "print(X_train_scaled.shape)\n",
    "print()\n",
    "print(X_test_scaled.shape)\n",
    "print()\n",
    "print(y_train_scaled.shape)\n",
    "print()\n",
    "print(y_test_scaled.shape)"
   ]
  },
  {
   "cell_type": "markdown",
   "metadata": {},
   "source": [
    "Reshaping, otherwise it won't fit in the LSTM model"
   ]
  },
  {
   "cell_type": "code",
   "execution_count": 8,
   "metadata": {},
   "outputs": [
    {
     "name": "stdout",
     "output_type": "stream",
     "text": [
      "(19920, 1440, 1)\n",
      "\n",
      "(19920, 1, 1)\n",
      "\n",
      "(4981, 1440, 1)\n",
      "\n",
      "(4981, 1, 1)\n"
     ]
    }
   ],
   "source": [
    "X_train_scaled_res = np.reshape(X_train_scaled, (X_train_scaled.shape[0], X_train_scaled.shape[1], 1))\n",
    "\n",
    "y_train_scaled_res = np.reshape(y_train_scaled, (y_train_scaled.shape[0], y_train_scaled.shape[1], 1))\n",
    "\n",
    "X_test_scaled_res = np.reshape(X_test_scaled, (X_test_scaled.shape[0], X_test_scaled.shape[1], 1))\n",
    "\n",
    "y_test_scaled_res = np.reshape(y_test_scaled, (y_test_scaled.shape[0], y_test_scaled.shape[1], 1))\n",
    "\n",
    "print(X_train_scaled_res.shape)\n",
    "print()\n",
    "print(y_train_scaled_res.shape)\n",
    "print()\n",
    "print(X_test_scaled_res.shape)\n",
    "print()\n",
    "print(y_test_scaled_res.shape)"
   ]
  },
  {
   "cell_type": "markdown",
   "metadata": {},
   "source": [
    "Building LSTM model"
   ]
  },
  {
   "cell_type": "code",
   "execution_count": 9,
   "metadata": {},
   "outputs": [],
   "source": [
    "def build_model():\n",
    "    model = Sequential()\n",
    "    model.add(LSTM(units = 30, return_sequences = True, input_shape = (X_train_scaled.shape[1], 1)))\n",
    "    model.add(Dropout(0.2))\n",
    "    model.add(LSTM(units = 30, return_sequences = True, activation = 'relu'))\n",
    "    model.add(Dropout(0.2))\n",
    "    model.add(LSTM(units = 30, return_sequences = True, activation = 'relu'))\n",
    "    model.add(Dropout(0.2))\n",
    "    model.add(LSTM(units = 30))\n",
    "    model.add(Dropout(0.2))\n",
    "    model.add(Dense(1, kernel_initializer='lecun_normal', activation='linear'))\n",
    "    model.compile(optimizer = optimizer, \n",
    "                  loss = 'mean_squared_error', \n",
    "                  metrics = [tf.keras.metrics.RootMeanSquaredError()])\n",
    "    \n",
    "    return model"
   ]
  },
  {
   "cell_type": "markdown",
   "metadata": {},
   "source": [
    "Cross-validation + validation samples"
   ]
  },
  {
   "cell_type": "code",
   "execution_count": 10,
   "metadata": {
    "scrolled": true
   },
   "outputs": [
    {
     "name": "stdout",
     "output_type": "stream",
     "text": [
      "processing fold # 0\n",
      "Epoch 1/4\n",
      "830/830 [==============================] - 834s 1s/step - loss: 0.1677 - root_mean_squared_error: 0.4094 - val_loss: 0.1196 - val_root_mean_squared_error: 0.3458\n",
      "Epoch 2/4\n",
      "830/830 [==============================] - 792s 954ms/step - loss: 0.1233 - root_mean_squared_error: 0.3511 - val_loss: 0.1196 - val_root_mean_squared_error: 0.3458\n",
      "Epoch 3/4\n",
      "830/830 [==============================] - 813s 980ms/step - loss: 0.1221 - root_mean_squared_error: 0.3495 - val_loss: 0.1194 - val_root_mean_squared_error: 0.3455\n",
      "Epoch 4/4\n",
      "830/830 [==============================] - 796s 959ms/step - loss: 0.1229 - root_mean_squared_error: 0.3506 - val_loss: 0.1193 - val_root_mean_squared_error: 0.3454\n",
      "processing fold # 1\n",
      "Epoch 1/4\n",
      "830/830 [==============================] - 794s 952ms/step - loss: 0.1402 - root_mean_squared_error: 0.3742 - val_loss: 0.1216 - val_root_mean_squared_error: 0.3488\n",
      "Epoch 2/4\n",
      "830/830 [==============================] - 830s 1s/step - loss: 0.1241 - root_mean_squared_error: 0.3523 - val_loss: 0.1216 - val_root_mean_squared_error: 0.3487\n",
      "Epoch 3/4\n",
      "830/830 [==============================] - 839s 1s/step - loss: 0.1214 - root_mean_squared_error: 0.3484 - val_loss: 0.1214 - val_root_mean_squared_error: 0.3484\n",
      "Epoch 4/4\n",
      "830/830 [==============================] - 829s 999ms/step - loss: 0.1223 - root_mean_squared_error: 0.3497 - val_loss: 0.1214 - val_root_mean_squared_error: 0.3485\n",
      "processing fold # 2\n",
      "Epoch 1/4\n",
      "830/830 [==============================] - 823s 987ms/step - loss: 0.1481 - root_mean_squared_error: 0.3839 - val_loss: 0.1228 - val_root_mean_squared_error: 0.3504\n",
      "Epoch 2/4\n",
      "830/830 [==============================] - 825s 994ms/step - loss: 0.1231 - root_mean_squared_error: 0.3509 - val_loss: 0.1227 - val_root_mean_squared_error: 0.3503\n",
      "Epoch 3/4\n",
      "830/830 [==============================] - 836s 1s/step - loss: 0.1210 - root_mean_squared_error: 0.3478 - val_loss: 0.1224 - val_root_mean_squared_error: 0.3499\n",
      "Epoch 4/4\n",
      "830/830 [==============================] - 822s 990ms/step - loss: 0.1237 - root_mean_squared_error: 0.3517 - val_loss: 0.1225 - val_root_mean_squared_error: 0.3501\n"
     ]
    }
   ],
   "source": [
    "train_data = X_train_scaled_res\n",
    "train_targets = y_train_scaled_res\n",
    "k = 3\n",
    "num_val_samples = len(train_data) // k\n",
    "num_epochs = 4\n",
    "all_scores = [] # Should add the score of each run at the end of the loop\n",
    "all_mae_histories = []\n",
    "val_all_mae_histories = []\n",
    "\n",
    "for i in range(k):\n",
    "    print('processing fold #', i)\n",
    "    # Prepare the validation data: data from partition # k\n",
    "    val_data = train_data[i * num_val_samples: (i + 1) * num_val_samples]\n",
    "    val_targets = train_targets[i * num_val_samples: (i + 1) * num_val_samples]\n",
    "\n",
    "    # Prepare the training data: data from all other partitions\n",
    "    partial_train_data = np.concatenate(\n",
    "        [train_data[:i * num_val_samples],\n",
    "         train_data[(i + 1) * num_val_samples:]],\n",
    "        axis=0)\n",
    "    partial_train_targets = np.concatenate(\n",
    "        [train_targets[:i * num_val_samples],\n",
    "         train_targets[(i + 1) * num_val_samples:]],\n",
    "        axis=0)\n",
    "\n",
    "    # Build the Keras model \n",
    "    model = build_model()\n",
    "    # Train the model \n",
    "    history = model.fit(partial_train_data, partial_train_targets,\n",
    "                        validation_data=(val_data, val_targets),\n",
    "                        epochs=num_epochs, batch_size=batch_size, verbose=1)\n",
    "    mae_history = history.history['root_mean_squared_error']\n",
    "    all_mae_histories.append(mae_history)\n",
    "    val_mae_history = history.history['val_root_mean_squared_error']\n",
    "    val_all_mae_histories.append(val_mae_history)\n",
    "    \n",
    "    # Evaluate the model on the validation data\n",
    "    val_mse, val_mae = model.evaluate(val_data, val_targets, verbose=0)\n",
    "    all_scores.append(val_mae)"
   ]
  },
  {
   "cell_type": "code",
   "execution_count": 23,
   "metadata": {},
   "outputs": [
    {
     "name": "stdout",
     "output_type": "stream",
     "text": [
      "0.12106666666666666\n"
     ]
    }
   ],
   "source": [
    "print(np.mean([0.1193,0.1214,0.1225]))"
   ]
  },
  {
   "cell_type": "markdown",
   "metadata": {},
   "source": [
    "Training and validation results of 24h segment LSTM MODEL"
   ]
  },
  {
   "cell_type": "code",
   "execution_count": 11,
   "metadata": {},
   "outputs": [
    {
     "name": "stdout",
     "output_type": "stream",
     "text": [
      "RMSE of fold 1, 2 and 3:\n",
      "\n",
      "[0.34541836380958557, 0.34847384691238403, 0.35005804896354675]\n",
      "\n",
      "Mean RMSE of all folds:\n",
      "\n",
      "0.3479834198951721\n"
     ]
    }
   ],
   "source": [
    "print(\"RMSE of fold 1, 2 and 3:\\n\")\n",
    "print(all_scores)\n",
    "print()\n",
    "print(\"Mean RMSE of all folds:\\n\")\n",
    "print(np.mean(all_scores))"
   ]
  },
  {
   "cell_type": "code",
   "execution_count": 25,
   "metadata": {
    "scrolled": true
   },
   "outputs": [
    {
     "data": {
      "image/png": "[encoded data removed]",
      "text/plain": [
       "<Figure size 432x288 with 1 Axes>"
      ]
     },
     "metadata": {
      "needs_background": "light"
     },
     "output_type": "display_data"
    }
   ],
   "source": [
    "average_loss = [0.152,0.1235,0.1215,0.12296666666666667]\n",
    "average_val_loss = [0.12133333333333333,0.1213,0.12106666666666667,0.12106666666666666]\n",
    "\n",
    "plt.plot(range(1, len(average_loss) + 1), average_loss)\n",
    "plt.plot(range(1, len(average_val_loss) + 1), average_val_loss)\n",
    "plt.xlabel('Epochs')\n",
    "plt.ylabel('Loss')\n",
    "plt.legend(['training', 'validation'])\n",
    "plt.title('LSTM 24-hour segments, loss (MSE) per epoch')\n",
    "plt.show()"
   ]
  },
  {
   "cell_type": "markdown",
   "metadata": {},
   "source": [
    "Average per-epoch RMSE for all folds"
   ]
  },
  {
   "cell_type": "code",
   "execution_count": 26,
   "metadata": {},
   "outputs": [],
   "source": [
    "average_mae_history = [\n",
    "    np.mean([x[i] for x in all_mae_histories]) for i in range(num_epochs)]\n",
    "val_average_mae_history = [\n",
    "    np.mean([x[i] for x in val_all_mae_histories]) for i in range(num_epochs)]"
   ]
  },
  {
   "cell_type": "code",
   "execution_count": 28,
   "metadata": {},
   "outputs": [
    {
     "data": {
      "image/png": "[encoded data removed]",
      "text/plain": [
       "<Figure size 432x288 with 1 Axes>"
      ]
     },
     "metadata": {
      "needs_background": "light"
     },
     "output_type": "display_data"
    }
   ],
   "source": [
    "%matplotlib inline\n",
    "import matplotlib.pyplot as plt\n",
    "\n",
    "plt.plot(range(1, len(average_mae_history)+ 1), average_mae_history)\n",
    "plt.plot(range(1, len(val_average_mae_history)+ 1), val_average_mae_history)\n",
    "plt.xlabel('Epochs')\n",
    "plt.ylabel('RMSE')\n",
    "plt.legend(['training', 'validation'])\n",
    "plt.title('LSTM 24-hour segments, RMSE per epoch')\n",
    "plt.show()"
   ]
  },
  {
   "cell_type": "code",
   "execution_count": 35,
   "metadata": {},
   "outputs": [
    {
     "name": "stdout",
     "output_type": "stream",
     "text": [
      "[0.3707701563835144, 0.3502568205197652, 0.3495185375213623, 0.34962870677312213]\n",
      "[0.34833715359369916, 0.34826406836509705, 0.34794117013613385, 0.34798340996106464]\n"
     ]
    }
   ],
   "source": [
    "print(average_mae_history)\n",
    "print(val_average_mae_history)"
   ]
  },
  {
   "cell_type": "markdown",
   "metadata": {},
   "source": [
    "Training final model on all of the training data and evaluate on test set"
   ]
  },
  {
   "cell_type": "code",
   "execution_count": 29,
   "metadata": {},
   "outputs": [],
   "source": [
    "test_data = X_test_scaled_res \n",
    "test_targets = y_test_scaled_res"
   ]
  },
  {
   "cell_type": "code",
   "execution_count": 30,
   "metadata": {},
   "outputs": [
    {
     "name": "stdout",
     "output_type": "stream",
     "text": [
      "Epoch 1/12\n",
      "1245/1245 [==============================] - 1106s 886ms/step - loss: 0.1425 - root_mean_squared_error: 0.3771\n",
      "Epoch 2/12\n",
      "1245/1245 [==============================] - 1075s 863ms/step - loss: 0.1234 - root_mean_squared_error: 0.3513\n",
      "Epoch 3/12\n",
      "1245/1245 [==============================] - 1066s 856ms/step - loss: 0.1236 - root_mean_squared_error: 0.3515\n",
      "Epoch 4/12\n",
      "1245/1245 [==============================] - 1132s 910ms/step - loss: 0.1215 - root_mean_squared_error: 0.3486\n",
      "Epoch 5/12\n",
      "1245/1245 [==============================] - 1112s 894ms/step - loss: 0.1218 - root_mean_squared_error: 0.3489\n",
      "Epoch 6/12\n",
      "1245/1245 [==============================] - 1221s 980ms/step - loss: 0.1219 - root_mean_squared_error: 0.3492\n",
      "Epoch 7/12\n",
      "1245/1245 [==============================] - 1199s 963ms/step - loss: 0.1214 - root_mean_squared_error: 0.3484\n",
      "Epoch 8/12\n",
      "1245/1245 [==============================] - 1108s 890ms/step - loss: 0.1217 - root_mean_squared_error: 0.3489\n",
      "Epoch 9/12\n",
      "1245/1245 [==============================] - 1093s 878ms/step - loss: 0.1216 - root_mean_squared_error: 0.3488\n",
      "Epoch 10/12\n",
      "1245/1245 [==============================] - 1105s 888ms/step - loss: 0.1222 - root_mean_squared_error: 0.3495\n",
      "Epoch 11/12\n",
      "1245/1245 [==============================] - 1105s 888ms/step - loss: 0.1213 - root_mean_squared_error: 0.3483\n",
      "Epoch 12/12\n",
      "1245/1245 [==============================] - 1105s 887ms/step - loss: 0.1219 - root_mean_squared_error: 0.3491\n",
      "156/156 [==============================] - 37s 214ms/step - loss: 0.1239 - root_mean_squared_error: 0.3520\n"
     ]
    }
   ],
   "source": [
    "# Get a fresh, compiled model.\n",
    "model = build_model()\n",
    "# Train it on the entirety of the data.\n",
    "history_test = model.fit(train_data, train_targets,\n",
    "                        epochs=12, batch_size=16, verbose=1)\n",
    "test_mse_score, test_mae_score = model.evaluate(test_data, test_targets)"
   ]
  },
  {
   "cell_type": "code",
   "execution_count": 31,
   "metadata": {
    "scrolled": true
   },
   "outputs": [
    {
     "name": "stdout",
     "output_type": "stream",
     "text": [
      "Average Mean Squared Error:\n",
      "\n",
      "0.12387221306562424\n",
      "\n",
      "Average Root Mean Squared Error:\n",
      "\n",
      "0.351954847574234\n"
     ]
    }
   ],
   "source": [
    "print(\"Average Mean Squared Error:\\n\")\n",
    "print(test_mse_score)\n",
    "print()\n",
    "print(\"Average Root Mean Squared Error:\\n\")\n",
    "print(test_mae_score)"
   ]
  },
  {
   "cell_type": "code",
   "execution_count": 32,
   "metadata": {},
   "outputs": [
    {
     "name": "stdout",
     "output_type": "stream",
     "text": [
      "156/156 [==============================] - 46s 265ms/step\n",
      "[[7.019638 ]\n",
      " [6.96962  ]\n",
      " [6.9209137]\n",
      " ...\n",
      " [6.973767 ]\n",
      " [5.782117 ]\n",
      " [6.677314 ]]\n"
     ]
    }
   ],
   "source": [
    "model_predict = model.predict(X_test_scaled_res, verbose = 1)\n",
    "model_predict = sc.inverse_transform(model_predict)\n",
    "print(model_predict)\n",
    "y_test_inversed = (sc.inverse_transform(y_test_scaled))"
   ]
  },
  {
   "cell_type": "code",
   "execution_count": 33,
   "metadata": {},
   "outputs": [
    {
     "name": "stdout",
     "output_type": "stream",
     "text": [
      "Mean Squared Error:\n",
      "\n",
      "97.11584\n",
      "\n",
      "Root Mean Squared Error:\n",
      "\n",
      "9.854736784773502\n"
     ]
    }
   ],
   "source": [
    "y_actual = y_test_inversed\n",
    "y_predicted = model_predict\n",
    " \n",
    "MSE = mean_squared_error(y_actual, y_predicted)\n",
    "\n",
    "#print(mean_absolute_error(y_actual, y_predicted))\n",
    "print(\"Mean Squared Error:\\n\")\n",
    "print(MSE)\n",
    "print()\n",
    "RMSE = math.sqrt(MSE)\n",
    "print(\"Root Mean Squared Error:\\n\")\n",
    "print(RMSE)"
   ]
  }
 ],
 "metadata": {
  "kernelspec": {
   "display_name": "Python 3",
   "language": "python",
   "name": "python3"
  },
  "language_info": {
   "codemirror_mode": {
    "name": "ipython",
    "version": 3
   },
   "file_extension": ".py",
   "mimetype": "text/x-python",
   "name": "python",
   "nbconvert_exporter": "python",
   "pygments_lexer": "ipython3",
   "version": "3.8.3"
  }
 },
 "nbformat": 4,
 "nbformat_minor": 4
}
