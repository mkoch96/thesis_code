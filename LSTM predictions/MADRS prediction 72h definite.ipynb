{
 "cells": [
  {
   "cell_type": "markdown",
   "metadata": {},
   "source": [
    "Importing libraries"
   ]
  },
  {
   "cell_type": "code",
   "execution_count": 1,
   "metadata": {},
   "outputs": [],
   "source": [
    "import numpy as np\n",
    "import pandas as pd\n",
    "import seaborn as sns\n",
    "\n",
    "from sklearn.model_selection import train_test_split, cross_val_score, KFold\n",
    "from sklearn.preprocessing import StandardScaler, MinMaxScaler \n",
    "from sklearn.metrics import accuracy_score, classification_report, confusion_matrix \n",
    "from sklearn.metrics import mean_squared_error\n",
    "\n",
    "import os\n",
    "import sys\n",
    "import random\n",
    "\n",
    "from matplotlib import pyplot as plt\n",
    "\n",
    "import tensorflow as tf\n",
    "from tensorflow import keras\n",
    "from tensorflow.keras.layers import Input, Dense, Dropout\n",
    "from tensorflow.keras import backend as K\n",
    "from tensorflow.keras.optimizers import SGD, Nadam, Adam\n",
    "from tensorflow.keras.utils import to_categorical\n",
    "from tensorflow.keras.callbacks import TensorBoard, EarlyStopping, ModelCheckpoint\n",
    "from tensorflow.keras.wrappers.scikit_learn import KerasRegressor\n",
    "from tensorflow.keras.models import Sequential, load_model\n",
    "\n",
    "from keras.models import Sequential\n",
    "from keras.layers import Dense, LSTM, Dropout\n",
    "from keras import optimizers\n",
    "\n",
    "import math"
   ]
  },
  {
   "cell_type": "code",
   "execution_count": 3,
   "metadata": {},
   "outputs": [],
   "source": [
    "# hyperparameters\n",
    "\n",
    "step = 60 \n",
    "batch_size = 16\n",
    "optimizer = optimizers.Adam(lr = 0.00001) # learning rate is very low, otherwise the gradients exploded\n",
    "verbose = 1\n",
    "data_dir = \"Downloads/depression_data\"\n",
    "segment_length = 4320\n",
    "learning_rate = 0.0001"
   ]
  },
  {
   "cell_type": "code",
   "execution_count": 4,
   "metadata": {},
   "outputs": [
    {
     "name": "stdout",
     "output_type": "stream",
     "text": [
      "(array([[   0.,  143.,    0., ...,  130.,   64.,   98.],\n",
      "       [ 306.,  286.,   12., ...,  712., 1260.,  338.],\n",
      "       [   0.,    0.,   21., ...,   55.,  373.,  454.],\n",
      "       ...,\n",
      "       [   0.,    0.,    0., ...,    0.,    0.,    0.],\n",
      "       [   0.,    0.,    0., ...,    0.,    0.,    0.],\n",
      "       [   0.,    0.,    0., ...,    0.,    0.,    0.]], dtype=float32), array([19., 19., 19., ...,  0.,  0.,  0.], dtype=float32), 4320)\n"
     ]
    }
   ],
   "source": [
    "def segments_and_labels(dataset_dir, segment_length, step):\n",
    "    scores = pd.read_csv(os.path.join(dataset_dir, 'scores.csv'))\n",
    "    scores['madrs2'].fillna(0, inplace=True)\n",
    "\n",
    "    segments = []\n",
    "    labels = []\n",
    "\n",
    "    for person in scores['number']:\n",
    "        p = scores[scores['number'] == person]\n",
    "        filepath = os.path.join(dataset_dir, person.split('_')[0], f'{person}.csv')\n",
    "        df_activity = pd.read_csv(filepath)\n",
    "\n",
    "        for i in range(0, len(df_activity) - segment_length, step):\n",
    "            segment = df_activity['activity'].values[i : i + segment_length]\n",
    "            \n",
    "            segments.append([segment])\n",
    "            labels.append(p['madrs2'].values[0])\n",
    "\n",
    "    segments = np.asarray(segments)\n",
    "    segments = segments.reshape(-1, segment_length, 1)\n",
    "\n",
    "    input_shape = segments.shape[1]\n",
    "    segments = segments.reshape(segments.shape[0], input_shape).astype('float32')\n",
    "    labels = np.asarray(labels).astype('float32')\n",
    "\n",
    "    return segments, labels, input_shape\n",
    "\n",
    "print(segments_and_labels(data_dir,segment_length,step))"
   ]
  },
  {
   "cell_type": "code",
   "execution_count": 5,
   "metadata": {},
   "outputs": [
    {
     "name": "stdout",
     "output_type": "stream",
     "text": [
      "(17808, 4320)\n",
      "\n",
      "(4453, 4320)\n",
      "\n",
      "(17808,)\n",
      "\n",
      "(4453,)\n"
     ]
    }
   ],
   "source": [
    "segments, labels, input_shape = segments_and_labels(data_dir,segment_length,step)\n",
    "\n",
    "X_train, X_test, y_train, y_test = train_test_split(segments, labels, test_size=0.2, random_state=777)\n",
    "print(X_train.shape)\n",
    "print()\n",
    "print(X_test.shape)\n",
    "print()\n",
    "print(y_train.shape)\n",
    "print()\n",
    "print(y_test.shape)"
   ]
  },
  {
   "cell_type": "code",
   "execution_count": 6,
   "metadata": {},
   "outputs": [
    {
     "name": "stdout",
     "output_type": "stream",
     "text": [
      "(17808, 4320)\n",
      "\n",
      "(4453, 4320)\n",
      "\n",
      "(17808, 1)\n",
      "\n",
      "(4453, 1)\n"
     ]
    }
   ],
   "source": [
    "sc = MinMaxScaler(feature_range = (0,1))\n",
    "X_train_scaled = sc.fit_transform(X_train)\n",
    "X_test_scaled = sc.fit_transform(X_test)\n",
    "y_train_scaled = sc.fit_transform(y_train.reshape(-1,1))\n",
    "y_test_scaled = sc.fit_transform(y_test.reshape(-1,1))\n",
    "\n",
    "print(X_train_scaled.shape)\n",
    "print()\n",
    "print(X_test_scaled.shape)\n",
    "print()\n",
    "print(y_train_scaled.shape)\n",
    "print()\n",
    "print(y_test_scaled.shape)"
   ]
  },
  {
   "cell_type": "code",
   "execution_count": 7,
   "metadata": {},
   "outputs": [
    {
     "name": "stdout",
     "output_type": "stream",
     "text": [
      "(17808, 4320, 1)\n",
      "\n",
      "(17808, 1, 1)\n",
      "\n",
      "(4453, 4320, 1)\n",
      "\n",
      "(4453, 1, 1)\n"
     ]
    }
   ],
   "source": [
    "X_train_scaled_res = np.reshape(X_train_scaled, (X_train_scaled.shape[0], X_train_scaled.shape[1], 1))\n",
    "\n",
    "y_train_scaled_res = np.reshape(y_train_scaled, (y_train_scaled.shape[0], y_train_scaled.shape[1], 1))\n",
    "\n",
    "X_test_scaled_res = np.reshape(X_test_scaled, (X_test_scaled.shape[0], X_test_scaled.shape[1], 1))\n",
    "\n",
    "y_test_scaled_res = np.reshape(y_test_scaled, (y_test_scaled.shape[0], y_test_scaled.shape[1], 1))\n",
    "\n",
    "print(X_train_scaled_res.shape)\n",
    "print()\n",
    "print(y_train_scaled_res.shape)\n",
    "print()\n",
    "print(X_test_scaled_res.shape)\n",
    "print()\n",
    "print(y_test_scaled_res.shape)"
   ]
  },
  {
   "cell_type": "code",
   "execution_count": 8,
   "metadata": {},
   "outputs": [],
   "source": [
    "def build_model():\n",
    "    model = Sequential()\n",
    "    model.add(LSTM(units = 30, return_sequences = True, input_shape = (X_train_scaled.shape[1], 1)))\n",
    "    model.add(Dropout(0.2))\n",
    "    model.add(LSTM(units = 30, return_sequences = True, activation = 'relu'))\n",
    "    model.add(Dropout(0.2))\n",
    "    model.add(LSTM(units = 30, return_sequences = True, activation = 'relu'))\n",
    "    model.add(Dropout(0.2))\n",
    "    model.add(LSTM(units = 30))\n",
    "    model.add(Dropout(0.2))\n",
    "    model.add(Dense(1, kernel_initializer='lecun_normal', activation='linear'))\n",
    "    model.compile(optimizer = optimizer, \n",
    "                  loss = 'mean_squared_error', \n",
    "                  metrics = [tf.keras.metrics.RootMeanSquaredError()])\n",
    "    \n",
    "    return model"
   ]
  },
  {
   "cell_type": "code",
   "execution_count": 9,
   "metadata": {},
   "outputs": [
    {
     "name": "stdout",
     "output_type": "stream",
     "text": [
      "processing fold # 0\n",
      "Epoch 1/4\n",
      "742/742 [==============================] - 3741s 5s/step - loss: 0.1669 - root_mean_squared_error: 0.4085 - val_loss: 0.1201 - val_root_mean_squared_error: 0.3466\n",
      "Epoch 2/4\n",
      "742/742 [==============================] - 3759s 5s/step - loss: 0.1214 - root_mean_squared_error: 0.3483 - val_loss: 0.1184 - val_root_mean_squared_error: 0.3441\n",
      "Epoch 3/4\n",
      "742/742 [==============================] - 5912s 8s/step - loss: 0.1211 - root_mean_squared_error: 0.3480 - val_loss: 0.1184 - val_root_mean_squared_error: 0.3440\n",
      "Epoch 4/4\n",
      "742/742 [==============================] - 11887s 16s/step - loss: 0.1208 - root_mean_squared_error: 0.3475 - val_loss: 0.1182 - val_root_mean_squared_error: 0.3439\n",
      "processing fold # 1\n",
      "Epoch 1/4\n",
      "742/742 [==============================] - 3611s 5s/step - loss: 0.1442 - root_mean_squared_error: 0.3793 - val_loss: 0.1188 - val_root_mean_squared_error: 0.3447\n",
      "Epoch 2/4\n",
      "742/742 [==============================] - 3660s 5s/step - loss: 0.1205 - root_mean_squared_error: 0.3471 - val_loss: 0.1188 - val_root_mean_squared_error: 0.3447\n",
      "Epoch 3/4\n",
      "742/742 [==============================] - 13716s 19s/step - loss: 0.1193 - root_mean_squared_error: 0.3454 - val_loss: 0.1188 - val_root_mean_squared_error: 0.3446\n",
      "Epoch 4/4\n",
      "742/742 [==============================] - 3668s 5s/step - loss: 0.1218 - root_mean_squared_error: 0.3490 - val_loss: 0.1187 - val_root_mean_squared_error: 0.3446\n",
      "processing fold # 2\n",
      "Epoch 1/4\n",
      "742/742 [==============================] - 3747s 5s/step - loss: 0.1397 - root_mean_squared_error: 0.3732 - val_loss: 0.1205 - val_root_mean_squared_error: 0.3471\n",
      "Epoch 2/4\n",
      "742/742 [==============================] - 3755s 5s/step - loss: 0.1194 - root_mean_squared_error: 0.3455 - val_loss: 0.1204 - val_root_mean_squared_error: 0.3470\n",
      "Epoch 3/4\n",
      "742/742 [==============================] - 3769s 5s/step - loss: 0.1222 - root_mean_squared_error: 0.3496 - val_loss: 0.1203 - val_root_mean_squared_error: 0.3468\n",
      "Epoch 4/4\n",
      "742/742 [==============================] - 3655s 5s/step - loss: 0.1184 - root_mean_squared_error: 0.3441 - val_loss: 0.1202 - val_root_mean_squared_error: 0.3467\n"
     ]
    }
   ],
   "source": [
    "train_data = X_train_scaled_res\n",
    "train_targets = y_train_scaled_res\n",
    "k = 3\n",
    "num_val_samples = len(train_data) // k\n",
    "num_epochs = 4\n",
    "all_scores = [] # Should add the score of each run at the end of the loop\n",
    "all_mae_histories = []\n",
    "val_all_mae_histories = []\n",
    "\n",
    "for i in range(k):\n",
    "    print('processing fold #', i)\n",
    "    # Prepare the validation data: data from partition # k\n",
    "    val_data = train_data[i * num_val_samples: (i + 1) * num_val_samples]\n",
    "    val_targets = train_targets[i * num_val_samples: (i + 1) * num_val_samples]\n",
    "\n",
    "    # Prepare the training data: data from all other partitions\n",
    "    partial_train_data = np.concatenate(\n",
    "        [train_data[:i * num_val_samples],\n",
    "         train_data[(i + 1) * num_val_samples:]],\n",
    "        axis=0)\n",
    "    partial_train_targets = np.concatenate(\n",
    "        [train_targets[:i * num_val_samples],\n",
    "         train_targets[(i + 1) * num_val_samples:]],\n",
    "        axis=0)\n",
    "\n",
    "    # Build the Keras model \n",
    "    model = build_model()\n",
    "    # Train the model \n",
    "    history = model.fit(partial_train_data, partial_train_targets,\n",
    "                        validation_data=(val_data, val_targets),\n",
    "                        epochs=num_epochs, batch_size=batch_size, verbose=1)\n",
    "    mae_history = history.history['root_mean_squared_error']\n",
    "    all_mae_histories.append(mae_history)\n",
    "    val_mae_history = history.history['val_root_mean_squared_error']\n",
    "    val_all_mae_histories.append(val_mae_history)\n",
    "    \n",
    "    # Evaluate the model on the validation data\n",
    "    val_mse, val_mae = model.evaluate(val_data, val_targets, verbose=0)\n",
    "    all_scores.append(val_mae)"
   ]
  },
  {
   "cell_type": "code",
   "execution_count": 18,
   "metadata": {},
   "outputs": [
    {
     "name": "stdout",
     "output_type": "stream",
     "text": [
      "0.11939999999999999\n"
     ]
    }
   ],
   "source": [
    "print(np.mean([0.1182,0.1198,0.1202]))"
   ]
  },
  {
   "cell_type": "markdown",
   "metadata": {},
   "source": [
    "Training and validation results of 24h segment LSTM MODEL"
   ]
  },
  {
   "cell_type": "code",
   "execution_count": 10,
   "metadata": {},
   "outputs": [
    {
     "name": "stdout",
     "output_type": "stream",
     "text": [
      "RMSE of fold 1, 2 and 3:\n",
      "\n",
      "[0.3438641130924225, 0.3445793688297272, 0.3466775417327881]\n",
      "\n",
      "Mean RMSE of all folds:\n",
      "\n",
      "0.34504034121831256\n"
     ]
    }
   ],
   "source": [
    "print(\"RMSE of fold 1, 2 and 3:\\n\")\n",
    "print(all_scores)\n",
    "print()\n",
    "print(\"Mean RMSE of all folds:\\n\")\n",
    "print(np.mean(all_scores))"
   ]
  },
  {
   "cell_type": "code",
   "execution_count": 19,
   "metadata": {},
   "outputs": [
    {
     "data": {
      "image/png": "[encoded data removed]",
      "text/plain": [
       "<Figure size 432x288 with 1 Axes>"
      ]
     },
     "metadata": {
      "needs_background": "light"
     },
     "output_type": "display_data"
    }
   ],
   "source": [
    "%matplotlib inline\n",
    "import matplotlib.pyplot as plt\n",
    "\n",
    "plt.plot(range(1, len(average_mae_history)+ 1), average_mae_history)\n",
    "plt.plot(range(1, len(val_average_mae_history)+ 1), val_average_mae_history)\n",
    "plt.xlabel('Epochs')\n",
    "plt.ylabel('RMSE')\n",
    "plt.legend(['training', 'validation'])\n",
    "plt.title('LSTM 72-hour segments, RMSE per epoch')\n",
    "plt.show()"
   ]
  },
  {
   "cell_type": "markdown",
   "metadata": {},
   "source": [
    "Average per-epoch RMSE for all folds"
   ]
  },
  {
   "cell_type": "code",
   "execution_count": 20,
   "metadata": {},
   "outputs": [],
   "source": [
    "average_mae_history = [\n",
    "    np.mean([x[i] for x in all_mae_histories]) for i in range(num_epochs)]\n",
    "val_average_mae_history = [\n",
    "    np.mean([x[i] for x in val_all_mae_histories]) for i in range(num_epochs)]"
   ]
  },
  {
   "cell_type": "code",
   "execution_count": 22,
   "metadata": {
    "scrolled": true
   },
   "outputs": [
    {
     "data": {
      "image/png": "[encoded data removed]",
      "text/plain": [
       "<Figure size 432x288 with 1 Axes>"
      ]
     },
     "metadata": {
      "needs_background": "light"
     },
     "output_type": "display_data"
    }
   ],
   "source": [
    "%matplotlib inline\n",
    "import matplotlib.pyplot as plt\n",
    "\n",
    "plt.plot(range(1, len(average_mae_history)+ 1), average_mae_history)\n",
    "plt.plot(range(1, len(val_average_mae_history)+ 1), val_average_mae_history)\n",
    "plt.xlabel('Epochs')\n",
    "plt.ylabel('RMSE')\n",
    "plt.legend(['training', 'validation'])\n",
    "plt.title('LSTM 72-hour segments, RMSE per epoch')\n",
    "plt.show()"
   ]
  },
  {
   "cell_type": "code",
   "execution_count": 28,
   "metadata": {},
   "outputs": [
    {
     "name": "stdout",
     "output_type": "stream",
     "text": [
      "[0.36952101190884906, 0.34768374760945636, 0.3470565875371297, 0.3472929497559865]\n",
      "[0.34615954756736755, 0.3452763855457306, 0.34515459338823956, 0.34504032135009766]\n"
     ]
    }
   ],
   "source": [
    "print(average_mae_history)\n",
    "print(val_average_mae_history)"
   ]
  },
  {
   "cell_type": "markdown",
   "metadata": {},
   "source": [
    "Training final model on all of the training data and evaluate on test set"
   ]
  },
  {
   "cell_type": "code",
   "execution_count": 23,
   "metadata": {},
   "outputs": [],
   "source": [
    "test_data = X_test_scaled_res \n",
    "test_targets = y_test_scaled_res"
   ]
  },
  {
   "cell_type": "code",
   "execution_count": 24,
   "metadata": {
    "scrolled": true
   },
   "outputs": [
    {
     "name": "stdout",
     "output_type": "stream",
     "text": [
      "Epoch 1/12\n",
      "1113/1113 [==============================] - 5371s 5s/step - loss: 0.1402 - root_mean_squared_error: 0.3739\n",
      "Epoch 2/12\n",
      "1113/1113 [==============================] - 5483s 5s/step - loss: 0.1204 - root_mean_squared_error: 0.3469\n",
      "Epoch 3/12\n",
      "1113/1113 [==============================] - 7496s 7s/step - loss: 0.1190 - root_mean_squared_error: 0.3450\n",
      "Epoch 4/12\n",
      "1113/1113 [==============================] - 5268s 5s/step - loss: 0.1213 - root_mean_squared_error: 0.3482\n",
      "Epoch 5/12\n",
      "1113/1113 [==============================] - 5324s 5s/step - loss: 0.1204 - root_mean_squared_error: 0.3470\n",
      "Epoch 6/12\n",
      "1113/1113 [==============================] - 13970s 13s/step - loss: 0.1200 - root_mean_squared_error: 0.3464\n",
      "Epoch 7/12\n",
      "1113/1113 [==============================] - 5310s 5s/step - loss: 0.1197 - root_mean_squared_error: 0.3460\n",
      "Epoch 8/12\n",
      "1113/1113 [==============================] - 5291s 5s/step - loss: 0.1188 - root_mean_squared_error: 0.3447\n",
      "Epoch 9/12\n",
      "1113/1113 [==============================] - 5337s 5s/step - loss: 0.1203 - root_mean_squared_error: 0.3469\n",
      "Epoch 10/12\n",
      "1113/1113 [==============================] - 5704s 5s/step - loss: 0.1181 - root_mean_squared_error: 0.3437\n",
      "Epoch 11/12\n",
      "1113/1113 [==============================] - 7966s 7s/step - loss: 0.1190 - root_mean_squared_error: 0.3449\n",
      "Epoch 12/12\n",
      "1113/1113 [==============================] - 6022s 5s/step - loss: 0.1204 - root_mean_squared_error: 0.3470\n",
      "140/140 [==============================] - 132s 923ms/step - loss: 0.1214 - root_mean_squared_error: 0.3485\n"
     ]
    }
   ],
   "source": [
    "# Get a fresh, compiled model.\n",
    "model = build_model()\n",
    "# Train it on the entirety of the data.\n",
    "history_test = model.fit(train_data, train_targets,\n",
    "                        epochs=12, batch_size=16, verbose=1)\n",
    "test_mse_score, test_mae_score = model.evaluate(test_data, test_targets)"
   ]
  },
  {
   "cell_type": "code",
   "execution_count": 25,
   "metadata": {
    "scrolled": true
   },
   "outputs": [
    {
     "name": "stdout",
     "output_type": "stream",
     "text": [
      "Average Mean Squared Error:\n",
      "\n",
      "0.12143051624298096\n",
      "\n",
      "Average Root Mean Squared Error:\n",
      "\n",
      "0.3484688103199005\n"
     ]
    }
   ],
   "source": [
    "print(\"Average Mean Squared Error:\\n\")\n",
    "print(test_mse_score)\n",
    "print()\n",
    "print(\"Average Root Mean Squared Error:\\n\")\n",
    "print(test_mae_score)"
   ]
  },
  {
   "cell_type": "code",
   "execution_count": 26,
   "metadata": {},
   "outputs": [
    {
     "name": "stdout",
     "output_type": "stream",
     "text": [
      "140/140 [==============================] - 112s 759ms/step\n",
      "[[6.4305115]\n",
      " [6.710759 ]\n",
      " [6.7301846]\n",
      " ...\n",
      " [6.63189  ]\n",
      " [6.7061977]\n",
      " [6.7061977]]\n"
     ]
    }
   ],
   "source": [
    "model_predict = model.predict(X_test_scaled_res, verbose = 1)\n",
    "model_predict = sc.inverse_transform(model_predict)\n",
    "print(model_predict)\n",
    "y_test_inversed = (sc.inverse_transform(y_test_scaled))"
   ]
  },
  {
   "cell_type": "code",
   "execution_count": 27,
   "metadata": {},
   "outputs": [
    {
     "name": "stdout",
     "output_type": "stream",
     "text": [
      "Mean Squared Error:\n",
      "\n",
      "95.20154\n",
      "\n",
      "Root Mean Squared Error:\n",
      "\n",
      "9.757127553021817\n"
     ]
    }
   ],
   "source": [
    "y_actual = y_test_inversed\n",
    "y_predicted = model_predict\n",
    " \n",
    "MSE = mean_squared_error(y_actual, y_predicted)\n",
    "\n",
    "#print(mean_absolute_error(y_actual, y_predicted))\n",
    "print(\"Mean Squared Error:\\n\")\n",
    "print(MSE)\n",
    "print()\n",
    "RMSE = math.sqrt(MSE)\n",
    "print(\"Root Mean Squared Error:\\n\")\n",
    "print(RMSE)"
   ]
  }
 ],
 "metadata": {
  "kernelspec": {
   "display_name": "Python 3",
   "language": "python",
   "name": "python3"
  },
  "language_info": {
   "codemirror_mode": {
    "name": "ipython",
    "version": 3
   },
   "file_extension": ".py",
   "mimetype": "text/x-python",
   "name": "python",
   "nbconvert_exporter": "python",
   "pygments_lexer": "ipython3",
   "version": "3.8.3"
  }
 },
 "nbformat": 4,
 "nbformat_minor": 4
}
