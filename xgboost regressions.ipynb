{
 "cells": [
  {
   "cell_type": "markdown",
   "metadata": {},
   "source": [
    "---- MADRS prediction 16h segments baseline ----"
   ]
  },
  {
   "cell_type": "code",
   "execution_count": 4,
   "metadata": {},
   "outputs": [],
   "source": [
    "import numpy as np\n",
    "import pandas as pd\n",
    "import seaborn as sns\n",
    "\n",
    "from sklearn.model_selection import train_test_split, cross_val_score, KFold\n",
    "from sklearn.preprocessing import StandardScaler, MinMaxScaler \n",
    "from sklearn.metrics import accuracy_score, classification_report, confusion_matrix \n",
    "from sklearn.metrics import mean_squared_error, mean_absolute_error\n",
    "from sklearn.preprocessing import RobustScaler\n",
    "\n",
    "import os\n",
    "import sys\n",
    "import random\n",
    "\n",
    "from matplotlib import pyplot as plt\n",
    "\n",
    "import tensorflow as tf\n",
    "from tensorflow import keras\n",
    "from tensorflow.keras.layers import Input, Dense, Dropout\n",
    "from tensorflow.keras import backend as K\n",
    "from tensorflow.keras.optimizers import SGD, Nadam, Adam\n",
    "from tensorflow.keras.utils import to_categorical\n",
    "from tensorflow.keras.callbacks import TensorBoard, EarlyStopping, ModelCheckpoint\n",
    "from tensorflow.keras.wrappers.scikit_learn import KerasRegressor\n",
    "from tensorflow.keras.models import Sequential, load_model\n",
    "\n",
    "from keras.models import Sequential\n",
    "from keras.layers import Dense, LSTM, Dropout\n",
    "from keras import optimizers\n",
    "\n",
    "import math\n",
    "\n",
    "import xgboost as xgb\n",
    "from xgboost import cv"
   ]
  },
  {
   "cell_type": "code",
   "execution_count": 6,
   "metadata": {},
   "outputs": [],
   "source": [
    "# hyperparameters\n",
    "\n",
    "step = 60 \n",
    "batch_size = 16\n",
    "optimizer = optimizers.Adam(lr = 0.00001) # learning rate is very low, otherwise the gradients exploded\n",
    "verbose = 1\n",
    "data_dir = \"Downloads/depression_data\"\n",
    "segment_length = 960\n",
    "learning_rate = 0.0001"
   ]
  },
  {
   "cell_type": "markdown",
   "metadata": {},
   "source": [
    "Function for creating the segments and corresponding labels for MADRS prediction\n",
    "\n",
    "- it will read scores.csv (with all the demographics etc), and generates: -> one list of time sliced sequences -> one list of the corresponding participants' labels (madrs scores)\n",
    "\n"
   ]
  },
  {
   "cell_type": "code",
   "execution_count": 7,
   "metadata": {},
   "outputs": [
    {
     "name": "stdout",
     "output_type": "stream",
     "text": [
      "(array([[  0., 143.,   0., ...,   0.,   0.,   0.],\n",
      "       [306., 286.,  12., ...,   0.,   0.,   0.],\n",
      "       [  0.,   0.,  21., ...,   0.,   0.,   9.],\n",
      "       ...,\n",
      "       [  0.,   0.,   0., ...,   0.,   0.,   0.],\n",
      "       [  0.,   0.,   0., ...,   0.,   0.,   0.],\n",
      "       [  0.,   0.,   0., ...,   0.,   0.,   0.]], dtype=float32), array([19., 19., 19., ...,  0.,  0.,  0.], dtype=float32), 960)\n"
     ]
    }
   ],
   "source": [
    "def segments_and_labels(dataset_dir, segment_length, step):\n",
    "    scores = pd.read_csv(os.path.join(dataset_dir, 'scores.csv'))\n",
    "    scores['madrs2'].fillna(0, inplace=True)\n",
    "\n",
    "    segments = []\n",
    "    labels = []\n",
    "\n",
    "    for person in scores['number']:\n",
    "        p = scores[scores['number'] == person]\n",
    "        filepath = os.path.join(dataset_dir, person.split('_')[0], f'{person}.csv')\n",
    "        df_activity = pd.read_csv(filepath)\n",
    "\n",
    "        for i in range(0, len(df_activity) - segment_length, step):\n",
    "            segment = df_activity['activity'].values[i : i + segment_length]\n",
    "            \n",
    "            segments.append([segment])\n",
    "            labels.append(p['madrs2'].values[0])\n",
    "\n",
    "    segments = np.asarray(segments)\n",
    "    segments = segments.reshape(-1, segment_length, 1)\n",
    "\n",
    "    input_shape = segments.shape[1]\n",
    "    segments = segments.reshape(segments.shape[0], input_shape).astype('float32')\n",
    "    labels = np.asarray(labels).astype('float32')\n",
    "\n",
    "    return segments, labels, input_shape\n",
    "\n",
    "print(segments_and_labels(data_dir,segment_length,step))"
   ]
  },
  {
   "cell_type": "code",
   "execution_count": 8,
   "metadata": {
    "scrolled": true
   },
   "outputs": [],
   "source": [
    "segments, labels, input_shape = segments_and_labels(data_dir,segment_length,step)"
   ]
  },
  {
   "cell_type": "code",
   "execution_count": 9,
   "metadata": {},
   "outputs": [
    {
     "ename": "NameError",
     "evalue": "name 'X_train' is not defined",
     "output_type": "error",
     "traceback": [
      "\u001b[0;31m---------------------------------------------------------------------------\u001b[0m",
      "\u001b[0;31mNameError\u001b[0m                                 Traceback (most recent call last)",
      "\u001b[0;32m<ipython-input-9-0ea3d9443c2d>\u001b[0m in \u001b[0;36m<module>\u001b[0;34m\u001b[0m\n\u001b[1;32m      1\u001b[0m \u001b[0msc\u001b[0m \u001b[0;34m=\u001b[0m \u001b[0mRobustScaler\u001b[0m\u001b[0;34m(\u001b[0m\u001b[0;34m)\u001b[0m\u001b[0;34m\u001b[0m\u001b[0;34m\u001b[0m\u001b[0m\n\u001b[0;32m----> 2\u001b[0;31m \u001b[0mX_train_scaled\u001b[0m \u001b[0;34m=\u001b[0m \u001b[0msc\u001b[0m\u001b[0;34m.\u001b[0m\u001b[0mfit_transform\u001b[0m\u001b[0;34m(\u001b[0m\u001b[0mX_train\u001b[0m\u001b[0;34m)\u001b[0m\u001b[0;34m\u001b[0m\u001b[0;34m\u001b[0m\u001b[0m\n\u001b[0m\u001b[1;32m      3\u001b[0m \u001b[0mX_test_scaled\u001b[0m \u001b[0;34m=\u001b[0m \u001b[0msc\u001b[0m\u001b[0;34m.\u001b[0m\u001b[0mfit_transform\u001b[0m\u001b[0;34m(\u001b[0m\u001b[0mX_test\u001b[0m\u001b[0;34m)\u001b[0m\u001b[0;34m\u001b[0m\u001b[0;34m\u001b[0m\u001b[0m\n\u001b[1;32m      4\u001b[0m \u001b[0my_train_scaled\u001b[0m \u001b[0;34m=\u001b[0m \u001b[0msc\u001b[0m\u001b[0;34m.\u001b[0m\u001b[0mfit_transform\u001b[0m\u001b[0;34m(\u001b[0m\u001b[0my_train\u001b[0m\u001b[0;34m.\u001b[0m\u001b[0mreshape\u001b[0m\u001b[0;34m(\u001b[0m\u001b[0;34m-\u001b[0m\u001b[0;36m1\u001b[0m\u001b[0;34m,\u001b[0m\u001b[0;36m1\u001b[0m\u001b[0;34m)\u001b[0m\u001b[0;34m)\u001b[0m\u001b[0;34m\u001b[0m\u001b[0;34m\u001b[0m\u001b[0m\n\u001b[1;32m      5\u001b[0m \u001b[0my_test_scaled\u001b[0m \u001b[0;34m=\u001b[0m \u001b[0msc\u001b[0m\u001b[0;34m.\u001b[0m\u001b[0mfit_transform\u001b[0m\u001b[0;34m(\u001b[0m\u001b[0my_test\u001b[0m\u001b[0;34m.\u001b[0m\u001b[0mreshape\u001b[0m\u001b[0;34m(\u001b[0m\u001b[0;34m-\u001b[0m\u001b[0;36m1\u001b[0m\u001b[0;34m,\u001b[0m\u001b[0;36m1\u001b[0m\u001b[0;34m)\u001b[0m\u001b[0;34m)\u001b[0m\u001b[0;34m\u001b[0m\u001b[0;34m\u001b[0m\u001b[0m\n",
      "\u001b[0;31mNameError\u001b[0m: name 'X_train' is not defined"
     ]
    }
   ],
   "source": [
    "sc = RobustScaler()\n",
    "X_train_scaled = sc.fit_transform(X_train)\n",
    "X_test_scaled = sc.fit_transform(X_test)\n",
    "y_train_scaled = sc.fit_transform(y_train.reshape(-1,1))\n",
    "y_test_scaled = sc.fit_transform(y_test.reshape(-1,1))\n",
    "\n",
    "print(X_train_scaled.shape)\n",
    "print()\n",
    "print(X_test_scaled.shape)\n",
    "print()\n",
    "print(y_train_scaled.shape)\n",
    "print()\n",
    "print(y_test_scaled.shape)"
   ]
  },
  {
   "cell_type": "code",
   "execution_count": 10,
   "metadata": {},
   "outputs": [],
   "source": [
    "X_train_scaled = sc.fit_transform(segments)\n",
    "y_train_scaled = sc.fit_transform(labels.reshape(-1,1))"
   ]
  },
  {
   "cell_type": "code",
   "execution_count": 11,
   "metadata": {},
   "outputs": [],
   "source": [
    "y_train = labels.reshape(-1,1)"
   ]
  },
  {
   "cell_type": "code",
   "execution_count": 12,
   "metadata": {
    "scrolled": true
   },
   "outputs": [
    {
     "name": "stdout",
     "output_type": "stream",
     "text": [
      "(25341, 960)\n",
      "(25341, 1)\n"
     ]
    }
   ],
   "source": [
    "print(X_train_scaled.shape)\n",
    "print(y_train_scaled.shape)"
   ]
  },
  {
   "cell_type": "code",
   "execution_count": 13,
   "metadata": {},
   "outputs": [],
   "source": [
    "data_dmatrix = xgb.DMatrix(data=segments,label=y_train)\n",
    "params = {\"objective\":\"reg:squarederror\",'colsample_bytree': 0.3,'learning_rate': 0.1,\n",
    "                'max_depth': 5, 'alpha': 10}"
   ]
  },
  {
   "cell_type": "code",
   "execution_count": 14,
   "metadata": {},
   "outputs": [],
   "source": [
    "xgb_cv = cv(dtrain=data_dmatrix,  \n",
    "            nfold=3,\n",
    "            params=params,\n",
    "            num_boost_round=150, \n",
    "            early_stopping_rounds=10, \n",
    "            metrics=\"rmse\", \n",
    "            as_pandas=True, \n",
    "            seed=123)"
   ]
  },
  {
   "cell_type": "code",
   "execution_count": 16,
   "metadata": {
    "scrolled": false
   },
   "outputs": [
    {
     "name": "stdout",
     "output_type": "stream",
     "text": [
      "last 5 rmse scores of training set:\n",
      "\n",
      "\n",
      "last 5 rmse scores of test set:\n",
      "\n"
     ]
    }
   ],
   "source": [
    "# contains train and test rmse metrics for each boosting round.\n",
    "print(\"last 5 rmse scores of training set:\\n\")\n",
    "h16 = xgb_cv[\"train-rmse-mean\"]\n",
    "print()\n",
    "print(\"last 5 rmse scores of test set:\\n\")\n",
    "h16_val = xgb_cv[\"test-rmse-mean\"]"
   ]
  },
  {
   "cell_type": "code",
   "execution_count": 18,
   "metadata": {},
   "outputs": [
    {
     "name": "stdout",
     "output_type": "stream",
     "text": [
      "0      11.202012\n",
      "1      10.806974\n",
      "2      10.468578\n",
      "3      10.186545\n",
      "4       9.946518\n",
      "         ...    \n",
      "145     6.476926\n",
      "146     6.466973\n",
      "147     6.456717\n",
      "148     6.445863\n",
      "149     6.432834\n",
      "Name: train-rmse-mean, Length: 150, dtype: float64\n"
     ]
    }
   ],
   "source": [
    "print(xgb_cv[\"train-rmse-mean\"])"
   ]
  },
  {
   "cell_type": "code",
   "execution_count": 17,
   "metadata": {},
   "outputs": [
    {
     "data": {
      "image/png": "[encoded data removed]",
      "text/plain": [
       "<Figure size 432x288 with 1 Axes>"
      ]
     },
     "metadata": {
      "needs_background": "light"
     },
     "output_type": "display_data"
    }
   ],
   "source": [
    "%matplotlib inline\n",
    "import matplotlib.pyplot as plt\n",
    "\n",
    "plt.plot(xgb_cv[\"train-rmse-mean\"], color = 'orange')\n",
    "plt.plot(xgb_cv[\"test-rmse-mean\"], color = 'b')\n",
    "plt.xlabel('Booster rounds')\n",
    "plt.ylabel('RMSE')\n",
    "plt.legend(['train RMSE','test RMSE'])\n",
    "plt.title('XGBoost RMSE of train and test set 16-hour segments')\n",
    "plt.show()"
   ]
  },
  {
   "cell_type": "markdown",
   "metadata": {},
   "source": [
    "\n",
    "\n",
    "-------- 24h regression xgboost -----------\n",
    "\n"
   ]
  },
  {
   "cell_type": "code",
   "execution_count": 19,
   "metadata": {},
   "outputs": [],
   "source": [
    "segment_length = 1440"
   ]
  },
  {
   "cell_type": "code",
   "execution_count": 20,
   "metadata": {},
   "outputs": [],
   "source": [
    "segments, labels, input_shape = segments_and_labels(data_dir,segment_length,step)"
   ]
  },
  {
   "cell_type": "code",
   "execution_count": 21,
   "metadata": {},
   "outputs": [
    {
     "name": "stdout",
     "output_type": "stream",
     "text": [
      "(24901, 1440)\n",
      "(24901,)\n"
     ]
    }
   ],
   "source": [
    "print(segments.shape)\n",
    "print(labels.shape)"
   ]
  },
  {
   "cell_type": "code",
   "execution_count": 22,
   "metadata": {},
   "outputs": [
    {
     "name": "stdout",
     "output_type": "stream",
     "text": [
      "(24901, 1)\n"
     ]
    }
   ],
   "source": [
    "y_train = labels.reshape(-1,1)\n",
    "print(y_train.shape)"
   ]
  },
  {
   "cell_type": "code",
   "execution_count": 23,
   "metadata": {},
   "outputs": [],
   "source": [
    "data_dmatrix = xgb.DMatrix(data=segments,label=y_train)\n",
    "params = {\"objective\":\"reg:squarederror\",'colsample_bytree': 0.3,'learning_rate': 0.1,\n",
    "                'max_depth': 5, 'alpha': 10}"
   ]
  },
  {
   "cell_type": "code",
   "execution_count": 24,
   "metadata": {
    "scrolled": true
   },
   "outputs": [],
   "source": [
    "xgb_cv = cv(dtrain=data_dmatrix,  \n",
    "            nfold=3,\n",
    "            params=params,\n",
    "            num_boost_round=150, \n",
    "            early_stopping_rounds=10, \n",
    "            metrics=\"rmse\", \n",
    "            as_pandas=True, \n",
    "            seed=123)"
   ]
  },
  {
   "cell_type": "code",
   "execution_count": 25,
   "metadata": {},
   "outputs": [
    {
     "name": "stdout",
     "output_type": "stream",
     "text": [
      "last 5 rmse scores of training set:\n",
      "\n",
      "\n",
      "last 5 rmse scores of test set:\n",
      "\n"
     ]
    }
   ],
   "source": [
    "# contains train and test rmse metrics of last 5 boosting rounds.\n",
    "print(\"last 5 rmse scores of training set:\\n\")\n",
    "h24 = xgb_cv[\"train-rmse-mean\"]\n",
    "print()\n",
    "print(\"last 5 rmse scores of test set:\\n\")\n",
    "h24_val = xgb_cv[\"test-rmse-mean\"]"
   ]
  },
  {
   "cell_type": "code",
   "execution_count": 26,
   "metadata": {},
   "outputs": [
    {
     "name": "stdout",
     "output_type": "stream",
     "text": [
      "0      11.174042\n",
      "1      10.768722\n",
      "2      10.418753\n",
      "3      10.136332\n",
      "4       9.891802\n",
      "         ...    \n",
      "145     6.189200\n",
      "146     6.176281\n",
      "147     6.163463\n",
      "148     6.149242\n",
      "149     6.140689\n",
      "Name: train-rmse-mean, Length: 150, dtype: float64\n"
     ]
    }
   ],
   "source": [
    "print(xgb_cv[\"train-rmse-mean\"])"
   ]
  },
  {
   "cell_type": "code",
   "execution_count": 27,
   "metadata": {},
   "outputs": [
    {
     "data": {
      "image/png": "[encoded data removed]",
      "text/plain": [
       "<Figure size 432x288 with 1 Axes>"
      ]
     },
     "metadata": {
      "needs_background": "light"
     },
     "output_type": "display_data"
    }
   ],
   "source": [
    "%matplotlib inline\n",
    "import matplotlib.pyplot as plt\n",
    "\n",
    "plt.plot(xgb_cv[\"train-rmse-mean\"], color = 'orange')\n",
    "plt.plot(xgb_cv[\"test-rmse-mean\"], color = 'b')\n",
    "plt.xlabel('Booster rounds')\n",
    "plt.ylabel('RMSE')\n",
    "plt.legend(['train RMSE','test RMSE'])\n",
    "plt.title('XGBoost RMSE of train and test set 24-hour segments')\n",
    "plt.show()"
   ]
  },
  {
   "cell_type": "markdown",
   "metadata": {},
   "source": [
    "-------- 48h regression xgboost -----------"
   ]
  },
  {
   "cell_type": "code",
   "execution_count": 28,
   "metadata": {},
   "outputs": [],
   "source": [
    "segment_length = 2880"
   ]
  },
  {
   "cell_type": "code",
   "execution_count": 31,
   "metadata": {},
   "outputs": [
    {
     "name": "stdout",
     "output_type": "stream",
     "text": [
      "(23581, 2880)\n",
      "(23581,)\n",
      "(23581, 1)\n"
     ]
    }
   ],
   "source": [
    "segments, labels, input_shape = segments_and_labels(data_dir,segment_length,step)\n",
    "print(segments.shape)\n",
    "print(labels.shape)\n",
    "y_train = labels.reshape(-1,1)\n",
    "print(y_train.shape)"
   ]
  },
  {
   "cell_type": "code",
   "execution_count": 32,
   "metadata": {},
   "outputs": [],
   "source": [
    "data_dmatrix = xgb.DMatrix(data=segments,label=y_train)\n",
    "params = {\"objective\":\"reg:squarederror\",'colsample_bytree': 0.3,\n",
    "          'learning_rate': 0.1,'max_depth': 5,'alpha': 10}"
   ]
  },
  {
   "cell_type": "code",
   "execution_count": 33,
   "metadata": {},
   "outputs": [],
   "source": [
    "xgb_cv = cv(dtrain=data_dmatrix,  \n",
    "            nfold=3,\n",
    "            params=params,\n",
    "            num_boost_round=150, \n",
    "            early_stopping_rounds=10, \n",
    "            metrics=\"rmse\", \n",
    "            as_pandas=True, \n",
    "            seed=123)"
   ]
  },
  {
   "cell_type": "code",
   "execution_count": 34,
   "metadata": {},
   "outputs": [
    {
     "name": "stdout",
     "output_type": "stream",
     "text": [
      "last 5 rmse scores of training set:\n",
      "\n",
      "\n",
      "last 5 rmse scores of test set:\n",
      "\n"
     ]
    }
   ],
   "source": [
    "# contains train and test rmse metrics of last 5 boosting rounds.\n",
    "print(\"last 5 rmse scores of training set:\\n\")\n",
    "h48 = xgb_cv[\"train-rmse-mean\"]\n",
    "print()\n",
    "print(\"last 5 rmse scores of test set:\\n\")\n",
    "h48_val = xgb_cv[\"test-rmse-mean\"]"
   ]
  },
  {
   "cell_type": "code",
   "execution_count": 35,
   "metadata": {
    "scrolled": true
   },
   "outputs": [
    {
     "data": {
      "image/png": "[encoded data removed]",
      "text/plain": [
       "<Figure size 432x288 with 1 Axes>"
      ]
     },
     "metadata": {
      "needs_background": "light"
     },
     "output_type": "display_data"
    }
   ],
   "source": [
    "%matplotlib inline\n",
    "import matplotlib.pyplot as plt\n",
    "\n",
    "plt.plot(xgb_cv[\"train-rmse-mean\"], color = 'orange')\n",
    "plt.plot(xgb_cv[\"test-rmse-mean\"], color = 'b')\n",
    "plt.xlabel('Booster rounds')\n",
    "plt.ylabel('RMSE')\n",
    "plt.legend(['train RMSE','test RMSE'])\n",
    "plt.title('XGBoost RMSE of train and test set 48-hour segments')\n",
    "plt.show()"
   ]
  },
  {
   "cell_type": "markdown",
   "metadata": {},
   "source": [
    "-------- 72h regression xgboost -----------"
   ]
  },
  {
   "cell_type": "code",
   "execution_count": 36,
   "metadata": {},
   "outputs": [],
   "source": [
    "segment_length = 4320"
   ]
  },
  {
   "cell_type": "code",
   "execution_count": 37,
   "metadata": {},
   "outputs": [
    {
     "name": "stdout",
     "output_type": "stream",
     "text": [
      "(22261, 4320)\n",
      "(22261,)\n",
      "(22261, 1)\n"
     ]
    }
   ],
   "source": [
    "segments, labels, input_shape = segments_and_labels(data_dir,segment_length,step)\n",
    "print(segments.shape)\n",
    "print(labels.shape)\n",
    "y_train = labels.reshape(-1,1)\n",
    "print(y_train.shape)"
   ]
  },
  {
   "cell_type": "code",
   "execution_count": 38,
   "metadata": {},
   "outputs": [],
   "source": [
    "data_dmatrix = xgb.DMatrix(data=segments,label=y_train)\n",
    "params = {\"objective\":\"reg:squarederror\",'colsample_bytree': 0.3,\n",
    "          'learning_rate': 0.1,'max_depth': 5,'alpha': 10}"
   ]
  },
  {
   "cell_type": "code",
   "execution_count": 39,
   "metadata": {},
   "outputs": [],
   "source": [
    "xgb_cv = cv(dtrain=data_dmatrix,  \n",
    "            nfold=3,\n",
    "            params=params,\n",
    "            num_boost_round=150, \n",
    "            early_stopping_rounds=10, \n",
    "            metrics=\"rmse\", \n",
    "            as_pandas=True, \n",
    "            seed=123)"
   ]
  },
  {
   "cell_type": "code",
   "execution_count": 40,
   "metadata": {},
   "outputs": [
    {
     "name": "stdout",
     "output_type": "stream",
     "text": [
      "last 5 rmse scores of training set:\n",
      "\n",
      "\n",
      "last 5 rmse scores of test set:\n",
      "\n"
     ]
    }
   ],
   "source": [
    "# contains train and test rmse metrics of last 5 boosting rounds.\n",
    "print(\"last 5 rmse scores of training set:\\n\")\n",
    "h72 = xgb_cv[\"train-rmse-mean\"]\n",
    "print()\n",
    "print(\"last 5 rmse scores of test set:\\n\")\n",
    "h72_val = xgb_cv[\"test-rmse-mean\"]"
   ]
  },
  {
   "cell_type": "code",
   "execution_count": 41,
   "metadata": {},
   "outputs": [
    {
     "data": {
      "image/png": "[encoded data removed]",
      "text/plain": [
       "<Figure size 432x288 with 1 Axes>"
      ]
     },
     "metadata": {
      "needs_background": "light"
     },
     "output_type": "display_data"
    }
   ],
   "source": [
    "%matplotlib inline\n",
    "import matplotlib.pyplot as plt\n",
    "\n",
    "plt.plot(xgb_cv[\"train-rmse-mean\"], color = 'orange')\n",
    "plt.plot(xgb_cv[\"test-rmse-mean\"], color = 'b')\n",
    "plt.xlabel('Booster rounds')\n",
    "plt.ylabel('RMSE')\n",
    "plt.legend(['train RMSE','test RMSE'])\n",
    "plt.title('XGBoost RMSE of train and test set 72-hour segments')\n",
    "plt.show()"
   ]
  },
  {
   "cell_type": "markdown",
   "metadata": {},
   "source": [
    "-------- 96h regression xgboost -----------"
   ]
  },
  {
   "cell_type": "code",
   "execution_count": 42,
   "metadata": {},
   "outputs": [],
   "source": [
    "segment_length = 5760"
   ]
  },
  {
   "cell_type": "code",
   "execution_count": 43,
   "metadata": {},
   "outputs": [
    {
     "name": "stdout",
     "output_type": "stream",
     "text": [
      "(20941, 5760)\n",
      "(20941,)\n",
      "(20941, 1)\n"
     ]
    }
   ],
   "source": [
    "segments, labels, input_shape = segments_and_labels(data_dir,segment_length,step)\n",
    "print(segments.shape)\n",
    "print(labels.shape)\n",
    "y_train = labels.reshape(-1,1)\n",
    "print(y_train.shape)"
   ]
  },
  {
   "cell_type": "code",
   "execution_count": 44,
   "metadata": {},
   "outputs": [],
   "source": [
    "data_dmatrix = xgb.DMatrix(data=segments,label=y_train)\n",
    "params = {\"objective\":\"reg:squarederror\",'colsample_bytree': 0.3,\n",
    "          'learning_rate': 0.1,'max_depth': 5,'alpha': 10}"
   ]
  },
  {
   "cell_type": "code",
   "execution_count": 46,
   "metadata": {},
   "outputs": [],
   "source": [
    "xgb_cv = cv(dtrain=data_dmatrix,  \n",
    "            nfold=3,\n",
    "            params=params,\n",
    "            num_boost_round=150, \n",
    "            early_stopping_rounds=10, \n",
    "            metrics=\"rmse\", \n",
    "            as_pandas=True, \n",
    "            seed=123)"
   ]
  },
  {
   "cell_type": "code",
   "execution_count": 47,
   "metadata": {},
   "outputs": [
    {
     "name": "stdout",
     "output_type": "stream",
     "text": [
      "last 5 rmse scores of training set:\n",
      "\n",
      "0      10.905917\n",
      "1      10.500819\n",
      "2      10.145283\n",
      "3       9.839869\n",
      "4       9.574243\n",
      "         ...    \n",
      "145     4.949265\n",
      "146     4.932057\n",
      "147     4.915013\n",
      "148     4.899543\n",
      "149     4.891471\n",
      "Name: train-rmse-mean, Length: 150, dtype: float64\n",
      "\n",
      "last 5 rmse scores of test set:\n",
      "\n",
      "145    7.809691\n",
      "146    7.806802\n",
      "147    7.803797\n",
      "148    7.801474\n",
      "149    7.799926\n",
      "Name: test-rmse-mean, dtype: float64\n"
     ]
    }
   ],
   "source": [
    "# contains train and test rmse metrics of last 5 boosting rounds.\n",
    "print(\"last 5 rmse scores of training set:\\n\")\n",
    "print(xgb_cv[\"train-rmse-mean\"])\n",
    "print()\n",
    "print(\"last 5 rmse scores of test set:\\n\")\n",
    "print(xgb_cv[\"test-rmse-mean\"].tail())"
   ]
  },
  {
   "cell_type": "code",
   "execution_count": 48,
   "metadata": {
    "scrolled": false
   },
   "outputs": [
    {
     "data": {
      "image/png": "[encoded data removed]",
      "text/plain": [
       "<Figure size 432x288 with 1 Axes>"
      ]
     },
     "metadata": {
      "needs_background": "light"
     },
     "output_type": "display_data"
    }
   ],
   "source": [
    "%matplotlib inline\n",
    "import matplotlib.pyplot as plt\n",
    "\n",
    "plt.plot(xgb_cv[\"train-rmse-mean\"], color = 'orange')\n",
    "plt.plot(xgb_cv[\"test-rmse-mean\"], color = 'b')\n",
    "plt.xlabel('Booster rounds')\n",
    "plt.ylabel('RMSE')\n",
    "plt.legend(['train RMSE','test RMSE'])\n",
    "plt.title('XGBoost RMSE of train and test set 96-hour segments')\n",
    "plt.show()"
   ]
  },
  {
   "cell_type": "code",
   "execution_count": 2,
   "metadata": {},
   "outputs": [],
   "source": [
    "%matplotlib inline\n",
    "import matplotlib.pyplot as plt"
   ]
  },
  {
   "cell_type": "code",
   "execution_count": 50,
   "metadata": {},
   "outputs": [],
   "source": [
    "\n",
    "h96 = xgb_cv[\"train-rmse-mean\"]"
   ]
  },
  {
   "cell_type": "code",
   "execution_count": 51,
   "metadata": {},
   "outputs": [
    {
     "data": {
      "text/plain": [
       "Text(0.5, 1.0, 'XGBoost training RMSE per booster round (3-fold cross-validation)')"
      ]
     },
     "execution_count": 51,
     "metadata": {},
     "output_type": "execute_result"
    },
    {
     "data": {
      "image/png": "[encoded data removed]",
      "text/plain": [
       "<Figure size 720x360 with 1 Axes>"
      ]
     },
     "metadata": {
      "needs_background": "light"
     },
     "output_type": "display_data"
    }
   ],
   "source": [
    "%matplotlib inline\n",
    "\n",
    "plt.figure(figsize=(10, 5))\n",
    "plt.grid(color='k', linestyle='-', linewidth=0.5)\n",
    "#plt.plot(range(1, len(h24) + 1), h24, color = 'b', marker = 'x')\n",
    "#plt.plot(range(1, len(h48) + 1), h48, color = 'green', marker = 's')\n",
    "#plt.plot(range(1, len(h72) + 1), h72, color = 'red', marker = 'D')\n",
    "plt.plot(h16, color = 'orange')\n",
    "plt.plot(h24, color = 'blue')\n",
    "plt.plot(h48, color = 'green')\n",
    "plt.plot(h72, color = 'red')\n",
    "plt.plot(h96, color = 'pink')\n",
    "plt.xlabel('Booster rounds')\n",
    "plt.ylabel('RMSE')\n",
    "plt.legend(['16h segment','24h segment','48h segment','72h segment','96h segment'])\n",
    "plt.title('XGBoost training RMSE per booster round (3-fold cross-validation)')\n",
    "\n",
    "\n"
   ]
  },
  {
   "cell_type": "code",
   "execution_count": null,
   "metadata": {},
   "outputs": [],
   "source": []
  }
 ],
 "metadata": {
  "kernelspec": {
   "display_name": "Python 3",
   "language": "python",
   "name": "python3"
  },
  "language_info": {
   "codemirror_mode": {
    "name": "ipython",
    "version": 3
   },
   "file_extension": ".py",
   "mimetype": "text/x-python",
   "name": "python",
   "nbconvert_exporter": "python",
   "pygments_lexer": "ipython3",
   "version": "3.8.3"
  }
 },
 "nbformat": 4,
 "nbformat_minor": 4
}
