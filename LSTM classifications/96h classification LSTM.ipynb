{
 "cells": [
  {
   "cell_type": "code",
   "execution_count": 1,
   "metadata": {},
   "outputs": [],
   "source": [
    "import numpy as np\n",
    "import pandas as pd\n",
    "import seaborn as sns\n",
    "\n",
    "from sklearn.model_selection import train_test_split, cross_val_score, KFold\n",
    "from sklearn.preprocessing import StandardScaler, MinMaxScaler \n",
    "from sklearn.metrics import accuracy_score, classification_report, confusion_matrix \n",
    "\n",
    "import os\n",
    "import sys\n",
    "import random\n",
    "\n",
    "from matplotlib import pyplot as plt\n",
    "\n",
    "import tensorflow as tf\n",
    "from tensorflow import keras\n",
    "from tensorflow.keras.layers import Input, Dense, Dropout\n",
    "from tensorflow.keras import backend as K\n",
    "from tensorflow.keras.optimizers import SGD, Nadam, Adam\n",
    "from tensorflow.keras.utils import to_categorical\n",
    "from tensorflow.keras.callbacks import TensorBoard, EarlyStopping, ModelCheckpoint\n",
    "from tensorflow.keras.wrappers.scikit_learn import KerasRegressor\n",
    "from tensorflow.keras.models import Sequential, load_model\n",
    "\n",
    "from keras.models import Sequential\n",
    "from keras.layers import Dense, LSTM, Dropout\n",
    "from keras import optimizers"
   ]
  },
  {
   "cell_type": "code",
   "execution_count": 2,
   "metadata": {},
   "outputs": [],
   "source": [
    "# hyperparameters\n",
    "\n",
    "step = 60\n",
    "batch_size = 32\n",
    "optimizer = 'adam'\n",
    "verbose = 1\n",
    "data_dir = \"Downloads/depression_data\"\n",
    "segment_length = 5760\n",
    "learning_rate = 0.00001"
   ]
  },
  {
   "cell_type": "code",
   "execution_count": 3,
   "metadata": {},
   "outputs": [],
   "source": [
    "step = 60 \n",
    "batch_size = 16\n",
    "optimizer = optimizers.Adam(lr = 0.00001) # learning rate is very low, otherwise the gradients exploded\n",
    "verbose = 1\n",
    "data_dir = \"Downloads/depression_data\""
   ]
  },
  {
   "cell_type": "code",
   "execution_count": 4,
   "metadata": {},
   "outputs": [],
   "source": [
    "MADRS_LABLES = ['Normal', 'Mild', 'Moderate']\n",
    "MADRS_VALUES = [0, 7, 20]\n",
    "classes = len(MADRS_VALUES)"
   ]
  },
  {
   "cell_type": "code",
   "execution_count": 5,
   "metadata": {},
   "outputs": [],
   "source": [
    "def create_segments_and_labels_madrs_loo(dataset_dir, segment_length, step, leave_out_id=None):\n",
    "    scores = pd.read_csv(os.path.join(dataset_dir, 'scores.csv'))\n",
    "    scores['madrs2'].fillna(0, inplace=True)\n",
    "    \n",
    "    segments = []\n",
    "    labels = []\n",
    "\n",
    "    left_out_segments = []\n",
    "    left_out_correct = None\n",
    "\n",
    "    if leave_out_id == None:\n",
    "        leave_out_id = random.randint(0, len(scores['number']))\n",
    "\n",
    "    for i, person in enumerate(scores['number']):\n",
    "        p = scores[scores['number'] == person]\n",
    "        filepath = os.path.join(dataset_dir, person.split('_')[0], f'{person}.csv')\n",
    "        df_activity = pd.read_csv(filepath)\n",
    "\n",
    "        p_label = None\n",
    "\n",
    "        for j in range(classes):\n",
    "            if p['madrs2'].values[0] >= MADRS_VALUES[classes - j - 1]:\n",
    "                p_label = classes - j - 1\n",
    "                break\n",
    "\n",
    "        assert p_label != None, f'Could not get target label: {p}'\n",
    "\n",
    "        # For the participant that we are leaving out\n",
    "        if i == leave_out_id:\n",
    "            left_out_correct = p_label\n",
    "\n",
    "        for j in range(0, len(df_activity) - segment_length, step):\n",
    "            segment = df_activity['activity'].values[j : j + segment_length]\n",
    "            \n",
    "            # For the participant that we are leaving out\n",
    "            if i == leave_out_id:\n",
    "                left_out_segments.append([segment])\n",
    "            else:\n",
    "                segments.append([segment])\n",
    "                labels.append(p_label)\n",
    "\n",
    "    assert left_out_correct != None and len(left_out_segments) > 0, f'Did not set data for left out participant {leave_out_id}'\n",
    "    \n",
    "    labels = np.asarray(labels).astype('float32')\n",
    "    labels = to_categorical(labels, 3)\n",
    "    \n",
    "    segments = np.asarray(segments).reshape(-1, segment_length, 1)\n",
    "    left_out_segments = np.asarray(left_out_segments).reshape(-1, segment_length, 1)\n",
    "\n",
    "    num_time_periods, num_sensors = segments.shape[1], segments.shape[2]\n",
    "    input_shape = num_time_periods * num_sensors\n",
    "\n",
    "    segments = segments.reshape(segments.shape[0], input_shape).astype('float32')\n",
    "    left_out_segments = left_out_segments.reshape(left_out_segments.shape[0], input_shape).astype('float32')\n",
    "    \n",
    "    return segments, labels, input_shape"
   ]
  },
  {
   "cell_type": "code",
   "execution_count": 6,
   "metadata": {},
   "outputs": [],
   "source": [
    "segments, labels, input_shape = create_segments_and_labels_madrs_loo(data_dir,segment_length,step)"
   ]
  },
  {
   "cell_type": "code",
   "execution_count": 7,
   "metadata": {},
   "outputs": [
    {
     "name": "stdout",
     "output_type": "stream",
     "text": [
      "(16444, 5760)\n",
      "\n",
      "(4111, 5760)\n",
      "\n",
      "(16444, 3)\n",
      "\n",
      "(4111, 3)\n"
     ]
    }
   ],
   "source": [
    "# splitting dataset\n",
    "\n",
    "X_train, X_test, y_train, y_test = train_test_split(segments, labels, test_size=0.2, random_state=777)\n",
    "print(X_train.shape)\n",
    "print()\n",
    "print(X_test.shape)\n",
    "print()\n",
    "print(y_train.shape)\n",
    "print()\n",
    "print(y_test.shape)"
   ]
  },
  {
   "cell_type": "code",
   "execution_count": 8,
   "metadata": {},
   "outputs": [
    {
     "name": "stdout",
     "output_type": "stream",
     "text": [
      "(16444, 5760)\n",
      "\n",
      "(4111, 5760)\n",
      "\n",
      "(16444, 3)\n",
      "\n",
      "(4111, 3)\n"
     ]
    }
   ],
   "source": [
    "# splitting dataset\n",
    "\n",
    "X_train, X_test, y_train, y_test = train_test_split(segments, labels, test_size=0.2, random_state=777)\n",
    "print(X_train.shape)\n",
    "print()\n",
    "print(X_test.shape)\n",
    "print()\n",
    "print(y_train.shape)\n",
    "print()\n",
    "print(y_test.shape)"
   ]
  },
  {
   "cell_type": "code",
   "execution_count": 9,
   "metadata": {},
   "outputs": [
    {
     "name": "stdout",
     "output_type": "stream",
     "text": [
      "(16444, 5760)\n",
      "\n",
      "(4111, 5760)\n",
      "\n",
      "(16444, 3)\n",
      "\n",
      "(4111, 3)\n"
     ]
    }
   ],
   "source": [
    "sc = MinMaxScaler(feature_range = (0,1))\n",
    "X_train_scaled = sc.fit_transform(X_train)\n",
    "X_test_scaled = sc.fit_transform(X_test)\n",
    "y_train_scaled = sc.fit_transform(y_train)\n",
    "y_test_scaled = sc.fit_transform(y_test)\n",
    "\n",
    "print(X_train_scaled.shape)\n",
    "print()\n",
    "print(X_test_scaled.shape)\n",
    "print()\n",
    "print(y_train_scaled.shape)\n",
    "print()\n",
    "print(y_test_scaled.shape)"
   ]
  },
  {
   "cell_type": "code",
   "execution_count": 10,
   "metadata": {},
   "outputs": [],
   "source": [
    "X_train_scaled_res = np.reshape(X_train_scaled, (X_train_scaled.shape[0], X_train_scaled.shape[1], 1))\n",
    "\n",
    "y_train_scaled_res = np.reshape(y_train_scaled, (y_train_scaled.shape[0], y_train_scaled.shape[1], 1))\n",
    "\n",
    "X_train_res = np.reshape(X_train, (X_train.shape[0], X_train.shape[1], 1))\n",
    "\n",
    "y_train_res = np.reshape(y_train, (y_train.shape[0], y_train.shape[1], 1))\n",
    "\n",
    "X_test_scaled_res = np.reshape(X_test_scaled, (X_test_scaled.shape[0], X_test_scaled.shape[1], 1))\n",
    "\n",
    "y_test_scaled_res = np.reshape(y_test_scaled, (y_test_scaled.shape[0], y_test_scaled.shape[1], 1))\n",
    "\n",
    "X_test_res = np.reshape(X_test, (X_test.shape[0], X_test.shape[1], 1))\n",
    "\n",
    "y_test_res = np.reshape(y_test, (y_test.shape[0], y_test.shape[1], 1))"
   ]
  },
  {
   "cell_type": "code",
   "execution_count": 11,
   "metadata": {},
   "outputs": [
    {
     "name": "stdout",
     "output_type": "stream",
     "text": [
      "[[0]\n",
      " [1]\n",
      " [0]\n",
      " ...\n",
      " [0]\n",
      " [0]\n",
      " [0]]\n"
     ]
    }
   ],
   "source": [
    "train_labels = np.argmax(y_train_scaled_res, axis=1)\n",
    "test_labels = np.argmax(y_test_scaled_res, axis=1)\n",
    "\n",
    "print(train_labels)"
   ]
  },
  {
   "cell_type": "code",
   "execution_count": 12,
   "metadata": {},
   "outputs": [],
   "source": [
    "def build_model():\n",
    "    model = Sequential()\n",
    "    model.add(LSTM(units = 30, return_sequences = True, input_shape = (X_train_scaled.shape[1], 1)))\n",
    "    model.add(Dropout(0.2))\n",
    "    model.add(LSTM(units = 30, return_sequences = True, activation = 'relu'))\n",
    "    model.add(Dropout(0.2))\n",
    "    model.add(Dense(1, activation='relu'))\n",
    "    model.compile(optimizer = optimizer, \n",
    "                  loss = \"sparse_categorical_crossentropy\", \n",
    "                  metrics = 'accuracy')\n",
    "    \n",
    "    return model"
   ]
  },
  {
   "cell_type": "code",
   "execution_count": 13,
   "metadata": {},
   "outputs": [
    {
     "name": "stdout",
     "output_type": "stream",
     "text": [
      "processing fold # 0\n",
      "Epoch 1/4\n",
      "686/686 [==============================] - 2853s 4s/step - loss: 9.7121 - accuracy: 0.6609 - val_loss: 6.8124 - val_accuracy: 0.6643\n",
      "Epoch 2/4\n",
      "686/686 [==============================] - 3088s 5s/step - loss: 4.8122 - accuracy: 0.6583 - val_loss: 1.1479 - val_accuracy: 0.6643\n",
      "Epoch 3/4\n",
      "686/686 [==============================] - 3118s 5s/step - loss: 1.7256 - accuracy: 0.6538 - val_loss: 1.3324 - val_accuracy: 0.6643\n",
      "Epoch 4/4\n",
      "686/686 [==============================] - 7163s 10s/step - loss: 1.6462 - accuracy: 0.6605 - val_loss: 1.1873 - val_accuracy: 0.6643\n",
      "172/172 [==============================] - 2315s 14s/step - loss: 1.1873 - accuracy: 0.6643\n",
      "processing fold # 1\n",
      "Epoch 1/4\n",
      "686/686 [==============================] - 5878s 9s/step - loss: 4.7538 - accuracy: 0.6687 - val_loss: 1.5402 - val_accuracy: 0.6557\n",
      "Epoch 2/4\n",
      "686/686 [==============================] - 3059s 4s/step - loss: 1.7174 - accuracy: 0.6595 - val_loss: 1.3114 - val_accuracy: 0.6557\n",
      "Epoch 3/4\n",
      "686/686 [==============================] - 3090s 5s/step - loss: 1.4372 - accuracy: 0.6599 - val_loss: 1.2394 - val_accuracy: 0.6557\n",
      "Epoch 4/4\n",
      "686/686 [==============================] - 13149s 19s/step - loss: 1.3523 - accuracy: 0.6550 - val_loss: 1.1952 - val_accuracy: 0.6557\n",
      "172/172 [==============================] - 87s 508ms/step - loss: 1.1952 - accuracy: 0.6557\n",
      "processing fold # 2\n",
      "Epoch 1/4\n",
      "686/686 [==============================] - 3124s 5s/step - loss: 4.9816 - accuracy: 0.6613 - val_loss: 1.2263 - val_accuracy: 0.6606\n",
      "Epoch 2/4\n",
      "686/686 [==============================] - 3087s 5s/step - loss: 1.3712 - accuracy: 0.6603 - val_loss: 1.1282 - val_accuracy: 0.6606\n",
      "Epoch 3/4\n",
      "686/686 [==============================] - 3536s 5s/step - loss: 1.2622 - accuracy: 0.6556 - val_loss: 1.1085 - val_accuracy: 0.6606\n",
      "Epoch 4/4\n",
      "686/686 [==============================] - 3658s 5s/step - loss: 1.2208 - accuracy: 0.6628 - val_loss: 1.0861 - val_accuracy: 0.6606\n",
      "172/172 [==============================] - 108s 626ms/step - loss: 1.0861 - accuracy: 0.6606\n"
     ]
    }
   ],
   "source": [
    "train_data = X_train_scaled_res\n",
    "train_targets = train_labels\n",
    "k = 3\n",
    "num_val_samples = len(train_data) // k\n",
    "num_epochs = 4\n",
    "all_scores = [] # Should add the score of each run at the end of the loop\n",
    "all_mae_histories = []\n",
    "val_all_mae_histories = []\n",
    "\n",
    "for i in range(k):\n",
    "    print('processing fold #', i)\n",
    "    # Prepare the validation data: data from partition # k\n",
    "    val_data = train_data[i * num_val_samples: (i + 1) * num_val_samples]\n",
    "    val_targets = train_targets[i * num_val_samples: (i + 1) * num_val_samples]\n",
    "\n",
    "    # Prepare the training data: data from all other partitions\n",
    "    partial_train_data = np.concatenate(\n",
    "        [train_data[:i * num_val_samples],\n",
    "         train_data[(i + 1) * num_val_samples:]],\n",
    "        axis=0)\n",
    "    partial_train_targets = np.concatenate(\n",
    "        [train_targets[:i * num_val_samples],\n",
    "         train_targets[(i + 1) * num_val_samples:]],\n",
    "        axis=0)\n",
    "\n",
    "    # Build the Keras model \n",
    "    model = build_model()\n",
    "    # Train the model \n",
    "    history = model.fit(partial_train_data, partial_train_targets,\n",
    "                        validation_data=(val_data, val_targets),\n",
    "                        epochs=num_epochs, batch_size=batch_size, verbose=1)\n",
    "    mae_history = history.history['accuracy']\n",
    "    all_mae_histories.append(mae_history)\n",
    "    val_mae_history = history.history['val_accuracy']\n",
    "    val_all_mae_histories.append(val_mae_history)\n",
    "    \n",
    "    # Evaluate the model on the validation data\n",
    "    val_mse, val_mae = model.evaluate(val_data, val_targets, verbose=1)\n",
    "    all_scores.append(val_mae)"
   ]
  },
  {
   "cell_type": "code",
   "execution_count": 31,
   "metadata": {},
   "outputs": [
    {
     "name": "stdout",
     "output_type": "stream",
     "text": [
      "0.6602\n"
     ]
    }
   ],
   "source": [
    "print(np.mean([0.6643,0.6557,0.6606]))"
   ]
  },
  {
   "cell_type": "code",
   "execution_count": 26,
   "metadata": {},
   "outputs": [
    {
     "data": {
      "image/png": "[encoded data removed]",
      "text/plain": [
       "<Figure size 432x288 with 1 Axes>"
      ]
     },
     "metadata": {
      "needs_background": "light"
     },
     "output_type": "display_data"
    }
   ],
   "source": [
    "average_loss = [6.482499999999999,2.6336,1.4749999999999999,1.4064333333333334]\n",
    "average_val_loss = [3.192966666666667,1.3048,1.2267666666666666,1.1562000000000001]\n",
    "\n",
    "plt.plot(range(1, len(average_loss) + 1), average_loss)\n",
    "plt.plot(range(1, len(average_val_loss) + 1), average_val_loss)\n",
    "plt.xlabel('Epochs')\n",
    "plt.ylabel('Loss')\n",
    "plt.legend(['training', 'validation'])\n",
    "plt.title('LSTM 96-hour segments, loss (Cross-Entropy) per epoch')\n",
    "plt.show()"
   ]
  },
  {
   "cell_type": "code",
   "execution_count": 32,
   "metadata": {},
   "outputs": [
    {
     "data": {
      "image/png": "[encoded data removed]",
      "text/plain": [
       "<Figure size 432x288 with 1 Axes>"
      ]
     },
     "metadata": {
      "needs_background": "light"
     },
     "output_type": "display_data"
    }
   ],
   "source": [
    "average_loss = [0.6636333333333334,0.6593666666666667,0.6564333333333333,0.6594333333333333]\n",
    "average_val_loss = [0.6602,0.6602,0.6602,0.6602]\n",
    "\n",
    "plt.plot(range(1, len(average_loss) + 1), average_loss)\n",
    "plt.plot(range(1, len(average_val_loss) + 1), average_val_loss)\n",
    "plt.xlabel('Epochs')\n",
    "plt.ylabel('Accuracy')\n",
    "plt.legend(['training','validation'])\n",
    "plt.title('LSTM 96-hour segments, accuracy per epoch')\n",
    "plt.show()"
   ]
  },
  {
   "cell_type": "code",
   "execution_count": 14,
   "metadata": {},
   "outputs": [
    {
     "name": "stdout",
     "output_type": "stream",
     "text": [
      "Accuracy of fold 1, 2 and 3:\n",
      "\n",
      "[0.6642948389053345, 0.6557197570800781, 0.6606458425521851]\n",
      "\n",
      "Mean Accuracy of all folds:\n",
      "\n",
      "0.6602201461791992\n"
     ]
    }
   ],
   "source": [
    "print(\"Accuracy of fold 1, 2 and 3:\\n\")\n",
    "print(all_scores)\n",
    "print()\n",
    "print(\"Mean Accuracy of all folds:\\n\")\n",
    "print(np.mean(all_scores))"
   ]
  },
  {
   "cell_type": "code",
   "execution_count": 16,
   "metadata": {},
   "outputs": [
    {
     "name": "stdout",
     "output_type": "stream",
     "text": [
      "129/129 [==============================] - 74s 569ms/step - loss: 1.1121 - accuracy: 0.6570\n"
     ]
    }
   ],
   "source": [
    "test_data = X_test_scaled_res \n",
    "test_targets = test_labels\n",
    "y_pred = model.evaluate(X_test_scaled_res,test_labels)"
   ]
  }
 ],
 "metadata": {
  "kernelspec": {
   "display_name": "Python 3",
   "language": "python",
   "name": "python3"
  },
  "language_info": {
   "codemirror_mode": {
    "name": "ipython",
    "version": 3
   },
   "file_extension": ".py",
   "mimetype": "text/x-python",
   "name": "python",
   "nbconvert_exporter": "python",
   "pygments_lexer": "ipython3",
   "version": "3.8.3"
  }
 },
 "nbformat": 4,
 "nbformat_minor": 4
}
