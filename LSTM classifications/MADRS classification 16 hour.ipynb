{
 "cells": [
  {
   "cell_type": "code",
   "execution_count": 236,
   "metadata": {},
   "outputs": [],
   "source": [
    "import numpy as np\n",
    "import pandas as pd\n",
    "import seaborn as sns\n",
    "\n",
    "from sklearn.model_selection import train_test_split, cross_val_score, KFold\n",
    "from sklearn.preprocessing import StandardScaler, MinMaxScaler \n",
    "from sklearn.metrics import accuracy_score, classification_report, confusion_matrix \n",
    "\n",
    "import os\n",
    "import sys\n",
    "import random\n",
    "\n",
    "from matplotlib import pyplot as plt\n",
    "\n",
    "import tensorflow as tf\n",
    "from tensorflow import keras\n",
    "from tensorflow.keras.layers import Input, Dense, Dropout\n",
    "from tensorflow.keras import backend as K\n",
    "from tensorflow.keras.optimizers import SGD, Nadam, Adam\n",
    "from tensorflow.keras.utils import to_categorical\n",
    "from tensorflow.keras.callbacks import TensorBoard, EarlyStopping, ModelCheckpoint\n",
    "from tensorflow.keras.wrappers.scikit_learn import KerasRegressor\n",
    "from tensorflow.keras.models import Sequential, load_model\n",
    "\n",
    "from keras.models import Sequential\n",
    "from keras.layers import Dense, LSTM, Dropout\n",
    "from keras import optimizers"
   ]
  },
  {
   "cell_type": "code",
   "execution_count": 237,
   "metadata": {},
   "outputs": [],
   "source": [
    "# hyperparameters\n",
    "\n",
    "step = 60\n",
    "batch_size = 32\n",
    "optimizer = 'adam'\n",
    "verbose = 1\n",
    "data_dir = \"Downloads/depression_data\"\n",
    "segment_length = 960\n",
    "learning_rate = 0.00001"
   ]
  },
  {
   "cell_type": "code",
   "execution_count": 238,
   "metadata": {},
   "outputs": [],
   "source": [
    "step = 60 \n",
    "batch_size = 16\n",
    "optimizer = optimizers.Adam(lr = 0.00001) # learning rate is very low, otherwise the gradients exploded\n",
    "verbose = 1\n",
    "data_dir = \"Downloads/depression_data\""
   ]
  },
  {
   "cell_type": "code",
   "execution_count": 239,
   "metadata": {},
   "outputs": [],
   "source": [
    "MADRS_LABLES = ['Normal', 'Mild', 'Moderate']\n",
    "MADRS_VALUES = [0, 7, 20]\n",
    "classes = len(MADRS_VALUES)"
   ]
  },
  {
   "cell_type": "code",
   "execution_count": 240,
   "metadata": {},
   "outputs": [],
   "source": [
    "\"\"\"\n",
    "Create segments and labels for \"leave one participant out\" experiment on classifying depression classes\n",
    "- dataset_dir:      location of dataset files\n",
    "- segment_length:   length of each segment\n",
    "- step:             how many indexes to jump after each iteration\n",
    "- leave_out_id:     which participant that is left out, a random is selected if left as None\n",
    "Returns:\n",
    "- segments\n",
    "- labels\n",
    "- left_out_segments\n",
    "- left_out_correct\n",
    "- input_shape\n",
    "\"\"\"\n",
    "def create_segments_and_labels_madrs_loo(dataset_dir, segment_length, step, leave_out_id=None):\n",
    "    scores = pd.read_csv(os.path.join(dataset_dir, 'scores.csv'))\n",
    "    scores['madrs2'].fillna(0, inplace=True)\n",
    "    \n",
    "    segments = []\n",
    "    labels = []\n",
    "\n",
    "    left_out_segments = []\n",
    "    left_out_correct = None\n",
    "\n",
    "    if leave_out_id == None:\n",
    "        leave_out_id = random.randint(0, len(scores['number']))\n",
    "\n",
    "    for i, person in enumerate(scores['number']):\n",
    "        p = scores[scores['number'] == person]\n",
    "        filepath = os.path.join(dataset_dir, person.split('_')[0], f'{person}.csv')\n",
    "        df_activity = pd.read_csv(filepath)\n",
    "\n",
    "        p_label = None\n",
    "\n",
    "        for j in range(classes):\n",
    "            if p['madrs2'].values[0] >= MADRS_VALUES[classes - j - 1]:\n",
    "                p_label = classes - j - 1\n",
    "                break\n",
    "\n",
    "        assert p_label != None, f'Could not get target label: {p}'\n",
    "\n",
    "        # For the participant that we are leaving out\n",
    "        if i == leave_out_id:\n",
    "            left_out_correct = p_label\n",
    "\n",
    "        for j in range(0, len(df_activity) - segment_length, step):\n",
    "            segment = df_activity['activity'].values[j : j + segment_length]\n",
    "            \n",
    "            # For the participant that we are leaving out\n",
    "            if i == leave_out_id:\n",
    "                left_out_segments.append([segment])\n",
    "            else:\n",
    "                segments.append([segment])\n",
    "                labels.append(p_label)\n",
    "\n",
    "    assert left_out_correct != None and len(left_out_segments) > 0, f'Did not set data for left out participant {leave_out_id}'\n",
    "    \n",
    "    labels = np.asarray(labels).astype('float32')\n",
    "    labels = to_categorical(labels, 3)\n",
    "    \n",
    "    segments = np.asarray(segments).reshape(-1, segment_length, 1)\n",
    "    left_out_segments = np.asarray(left_out_segments).reshape(-1, segment_length, 1)\n",
    "\n",
    "    num_time_periods, num_sensors = segments.shape[1], segments.shape[2]\n",
    "    input_shape = num_time_periods * num_sensors\n",
    "\n",
    "    segments = segments.reshape(segments.shape[0], input_shape).astype('float32')\n",
    "    left_out_segments = left_out_segments.reshape(left_out_segments.shape[0], input_shape).astype('float32')\n",
    "    \n",
    "    return segments, labels, input_shape"
   ]
  },
  {
   "cell_type": "code",
   "execution_count": 241,
   "metadata": {},
   "outputs": [],
   "source": [
    "segments, labels, input_shape = create_segments_and_labels_madrs_loo(data_dir,segment_length,step)"
   ]
  },
  {
   "cell_type": "code",
   "execution_count": 242,
   "metadata": {},
   "outputs": [
    {
     "name": "stdout",
     "output_type": "stream",
     "text": [
      "(19994, 960)\n",
      "\n",
      "(4999, 960)\n",
      "\n",
      "(19994, 3)\n",
      "\n",
      "(4999, 3)\n"
     ]
    }
   ],
   "source": [
    "# splitting dataset\n",
    "\n",
    "X_train, X_test, y_train, y_test = train_test_split(segments, labels, test_size=0.2, random_state=777)\n",
    "print(X_train.shape)\n",
    "print()\n",
    "print(X_test.shape)\n",
    "print()\n",
    "print(y_train.shape)\n",
    "print()\n",
    "print(y_test.shape)"
   ]
  },
  {
   "cell_type": "code",
   "execution_count": 243,
   "metadata": {
    "scrolled": true
   },
   "outputs": [
    {
     "name": "stdout",
     "output_type": "stream",
     "text": [
      "[[398. 517. 268. ... 111. 250.  98.]\n",
      " [  0.   0.   0. ...   0.   0.  35.]\n",
      " [  0.   0.   0. ...   0. 102. 116.]\n",
      " ...\n",
      " [  3.   3.   3. ...   3.   3.   3.]\n",
      " [  2.   2.   2. ...   3.   3.   4.]\n",
      " [606.  49. 809. ...   0.   0.   0.]]\n",
      "[[1. 0. 0.]\n",
      " [0. 0. 1.]\n",
      " [0. 1. 0.]\n",
      " ...\n",
      " [1. 0. 0.]\n",
      " [1. 0. 0.]\n",
      " [1. 0. 0.]]\n"
     ]
    }
   ],
   "source": [
    "print(X_train)\n",
    "print(y_train)"
   ]
  },
  {
   "cell_type": "code",
   "execution_count": 244,
   "metadata": {},
   "outputs": [
    {
     "name": "stdout",
     "output_type": "stream",
     "text": [
      "(19994, 960)\n",
      "\n",
      "(4999, 960)\n",
      "\n",
      "(19994, 3)\n",
      "\n",
      "(4999, 3)\n"
     ]
    }
   ],
   "source": [
    "sc = MinMaxScaler(feature_range = (0,1))\n",
    "X_train_scaled = sc.fit_transform(X_train)\n",
    "X_test_scaled = sc.fit_transform(X_test)\n",
    "y_train_scaled = sc.fit_transform(y_train)\n",
    "y_test_scaled = sc.fit_transform(y_test)\n",
    "\n",
    "print(X_train_scaled.shape)\n",
    "print()\n",
    "print(X_test_scaled.shape)\n",
    "print()\n",
    "print(y_train_scaled.shape)\n",
    "print()\n",
    "print(y_test_scaled.shape)"
   ]
  },
  {
   "cell_type": "code",
   "execution_count": 307,
   "metadata": {},
   "outputs": [
    {
     "name": "stdout",
     "output_type": "stream",
     "text": [
      "0.0\n"
     ]
    }
   ],
   "source": []
  },
  {
   "cell_type": "code",
   "execution_count": 245,
   "metadata": {},
   "outputs": [],
   "source": [
    "X_train_scaled_res = np.reshape(X_train_scaled, (X_train_scaled.shape[0], X_train_scaled.shape[1], 1))\n",
    "\n",
    "y_train_scaled_res = np.reshape(y_train_scaled, (y_train_scaled.shape[0], y_train_scaled.shape[1], 1))\n",
    "\n",
    "X_train_res = np.reshape(X_train, (X_train.shape[0], X_train.shape[1], 1))\n",
    "\n",
    "y_train_res = np.reshape(y_train, (y_train.shape[0], y_train.shape[1], 1))\n",
    "\n",
    "X_test_scaled_res = np.reshape(X_test_scaled, (X_test_scaled.shape[0], X_test_scaled.shape[1], 1))\n",
    "\n",
    "y_test_scaled_res = np.reshape(y_test_scaled, (y_test_scaled.shape[0], y_test_scaled.shape[1], 1))\n",
    "\n",
    "X_test_res = np.reshape(X_test, (X_test.shape[0], X_test.shape[1], 1))\n",
    "\n",
    "y_test_res = np.reshape(y_test, (y_test.shape[0], y_test.shape[1], 1))"
   ]
  },
  {
   "cell_type": "code",
   "execution_count": 246,
   "metadata": {},
   "outputs": [
    {
     "name": "stdout",
     "output_type": "stream",
     "text": [
      "(19994, 960, 1)\n",
      "(19994, 3, 1)\n",
      "(4999, 960, 1)\n",
      "(4999, 3, 1)\n"
     ]
    }
   ],
   "source": [
    "print(X_train_scaled_res.shape)\n",
    "print(y_train_scaled_res.shape)\n",
    "print(X_test_scaled_res.shape)\n",
    "print(y_test_scaled_res.shape)"
   ]
  },
  {
   "cell_type": "code",
   "execution_count": 289,
   "metadata": {},
   "outputs": [
    {
     "name": "stdout",
     "output_type": "stream",
     "text": [
      "[[0]\n",
      " [2]\n",
      " [1]\n",
      " ...\n",
      " [0]\n",
      " [0]\n",
      " [0]]\n"
     ]
    }
   ],
   "source": [
    "train_labels = np.argmax(y_train_scaled_res, axis=1)\n",
    "test_labels = np.argmax(y_test_scaled_res, axis=1)\n",
    "\n",
    "print(train_labels)"
   ]
  },
  {
   "cell_type": "code",
   "execution_count": 255,
   "metadata": {},
   "outputs": [],
   "source": [
    "def build_model():\n",
    "    model = Sequential()\n",
    "    model.add(LSTM(units = 30, return_sequences = True, input_shape = (X_train_scaled.shape[1], 1)))\n",
    "    model.add(Dropout(0.2))\n",
    "    model.add(LSTM(units = 30, return_sequences = True, activation = 'relu'))\n",
    "    model.add(Dropout(0.2))\n",
    "    model.add(Dense(1, activation='relu'))\n",
    "    model.compile(optimizer = optimizer, \n",
    "                  loss = \"sparse_categorical_crossentropy\", \n",
    "                  metrics = 'accuracy')\n",
    "    \n",
    "    return model"
   ]
  },
  {
   "cell_type": "code",
   "execution_count": 256,
   "metadata": {
    "scrolled": true
   },
   "outputs": [
    {
     "name": "stdout",
     "output_type": "stream",
     "text": [
      "processing fold # 0\n",
      "Epoch 1/4\n",
      "834/834 [==============================] - 359s 426ms/step - loss: 9.4965 - accuracy: 0.6565 - val_loss: 6.8669 - val_accuracy: 0.6699\n",
      "Epoch 2/4\n",
      "834/834 [==============================] - 352s 422ms/step - loss: 6.8947 - accuracy: 0.6592 - val_loss: 6.8669 - val_accuracy: 0.6699\n",
      "Epoch 3/4\n",
      "834/834 [==============================] - 350s 420ms/step - loss: 6.8752 - accuracy: 0.6640 - val_loss: 6.8669 - val_accuracy: 0.6699\n",
      "Epoch 4/4\n",
      "834/834 [==============================] - 362s 434ms/step - loss: 6.8714 - accuracy: 0.6650 - val_loss: 6.8669 - val_accuracy: 0.6699\n",
      "209/209 [==============================] - 21s 99ms/step - loss: 6.8669 - accuracy: 0.6699\n",
      "processing fold # 1\n",
      "Epoch 1/4\n",
      "834/834 [==============================] - 361s 429ms/step - loss: 3.7279 - accuracy: 0.6628 - val_loss: 1.1235 - val_accuracy: 0.6600\n",
      "Epoch 2/4\n",
      "834/834 [==============================] - 359s 430ms/step - loss: 1.4690 - accuracy: 0.6593 - val_loss: 1.2150 - val_accuracy: 0.6600\n",
      "Epoch 3/4\n",
      "834/834 [==============================] - 377s 453ms/step - loss: 1.3656 - accuracy: 0.6658 - val_loss: 1.1260 - val_accuracy: 0.6600\n",
      "Epoch 4/4\n",
      "834/834 [==============================] - 363s 436ms/step - loss: 1.3228 - accuracy: 0.6609 - val_loss: 1.0923 - val_accuracy: 0.6600\n",
      "209/209 [==============================] - 19s 90ms/step - loss: 1.0923 - accuracy: 0.6600\n",
      "processing fold # 2\n",
      "Epoch 1/4\n",
      "834/834 [==============================] - 454s 529ms/step - loss: 3.0963 - accuracy: 0.6643 - val_loss: 1.1444 - val_accuracy: 0.6564\n",
      "Epoch 2/4\n",
      "834/834 [==============================] - 395s 473ms/step - loss: 1.2688 - accuracy: 0.6637 - val_loss: 1.0817 - val_accuracy: 0.6564\n",
      "Epoch 3/4\n",
      "834/834 [==============================] - 399s 479ms/step - loss: 1.2125 - accuracy: 0.6628 - val_loss: 1.0963 - val_accuracy: 0.6564\n",
      "Epoch 4/4\n",
      "834/834 [==============================] - 429s 515ms/step - loss: 1.1814 - accuracy: 0.6656 - val_loss: 1.0673 - val_accuracy: 0.6564\n",
      "209/209 [==============================] - 26s 122ms/step - loss: 1.0673 - accuracy: 0.6564\n"
     ]
    }
   ],
   "source": [
    "train_data = X_train_scaled_res\n",
    "train_targets = train_labels\n",
    "k = 3\n",
    "num_val_samples = len(train_data) // k\n",
    "num_epochs = 4\n",
    "all_scores = [] # Should add the score of each run at the end of the loop\n",
    "all_mae_histories = []\n",
    "val_all_mae_histories = []\n",
    "\n",
    "for i in range(k):\n",
    "    print('processing fold #', i)\n",
    "    # Prepare the validation data: data from partition # k\n",
    "    val_data = train_data[i * num_val_samples: (i + 1) * num_val_samples]\n",
    "    val_targets = train_targets[i * num_val_samples: (i + 1) * num_val_samples]\n",
    "\n",
    "    # Prepare the training data: data from all other partitions\n",
    "    partial_train_data = np.concatenate(\n",
    "        [train_data[:i * num_val_samples],\n",
    "         train_data[(i + 1) * num_val_samples:]],\n",
    "        axis=0)\n",
    "    partial_train_targets = np.concatenate(\n",
    "        [train_targets[:i * num_val_samples],\n",
    "         train_targets[(i + 1) * num_val_samples:]],\n",
    "        axis=0)\n",
    "\n",
    "    # Build the Keras model \n",
    "    model = build_model()\n",
    "    # Train the model \n",
    "    history = model.fit(partial_train_data, partial_train_targets,\n",
    "                        validation_data=(val_data, val_targets),\n",
    "                        epochs=num_epochs, batch_size=batch_size, verbose=1)\n",
    "    mae_history = history.history['accuracy']\n",
    "    all_mae_histories.append(mae_history)\n",
    "    val_mae_history = history.history['val_accuracy']\n",
    "    val_all_mae_histories.append(val_mae_history)\n",
    "    \n",
    "    # Evaluate the model on the validation data\n",
    "    val_mse, val_mae = model.evaluate(val_data, val_targets, verbose=1)\n",
    "    all_scores.append(val_mae)"
   ]
  },
  {
   "cell_type": "code",
   "execution_count": 258,
   "metadata": {
    "scrolled": false
   },
   "outputs": [
    {
     "name": "stdout",
     "output_type": "stream",
     "text": [
      "Accuracy of fold 1, 2 and 3:\n",
      "\n",
      "[0.6698679327964783, 0.6599639654159546, 0.6563625335693359]\n",
      "\n",
      "Mean Accuracy of all folds:\n",
      "\n",
      "0.662064810593923\n"
     ]
    }
   ],
   "source": [
    "print(\"Accuracy of fold 1, 2 and 3:\\n\")\n",
    "print(all_scores)\n",
    "print()\n",
    "print(\"Mean Accuracy of all folds:\\n\")\n",
    "print(np.mean(all_scores))"
   ]
  },
  {
   "cell_type": "code",
   "execution_count": 275,
   "metadata": {},
   "outputs": [
    {
     "name": "stdout",
     "output_type": "stream",
     "text": [
      "0.6621\n"
     ]
    }
   ],
   "source": [
    "print(np.mean([0.6564,0.6600,0.6699]))"
   ]
  },
  {
   "cell_type": "code",
   "execution_count": 311,
   "metadata": {
    "scrolled": false
   },
   "outputs": [
    {
     "data": {
      "image/png": "[encoded data removed]",
      "text/plain": [
       "<Figure size 432x288 with 1 Axes>"
      ]
     },
     "metadata": {
      "needs_background": "light"
     },
     "output_type": "display_data"
    }
   ],
   "source": [
    "average_loss = [5.44,3.21,3.1511,3.0871666666666666]\n",
    "average_val_loss = [3.0449333333333333,3.0545333333333335,3.029733333333333,3.007633333333333]\n",
    "\n",
    "plt.plot(range(1, len(average_loss) + 1), average_loss)\n",
    "plt.plot(range(1, len(average_val_loss) + 1), average_val_loss)\n",
    "plt.xlabel('Epochs')\n",
    "plt.ylabel('Loss')\n",
    "plt.legend(['training', 'validation'])\n",
    "plt.title('LSTM 16-hour segments, loss (Cross-Entropy) per epoch')\n",
    "plt.show()"
   ]
  },
  {
   "cell_type": "code",
   "execution_count": 309,
   "metadata": {},
   "outputs": [
    {
     "data": {
      "image/png": "[encoded data removed]",
      "text/plain": [
       "<Figure size 432x288 with 1 Axes>"
      ]
     },
     "metadata": {
      "needs_background": "light"
     },
     "output_type": "display_data"
    }
   ],
   "source": [
    "average_loss = [0.6612,0.6609333333333334,0.6642,0.6638333333333334]\n",
    "average_val_loss = [0.6621,0.6625,0.6623,0.6622]\n",
    "\n",
    "plt.plot(range(1, len(average_loss) + 1), average_loss)\n",
    "plt.plot(range(1, len(average_val_loss) + 1), average_val_loss)\n",
    "plt.xlabel('Epochs')\n",
    "plt.ylabel('Accuracy')\n",
    "plt.legend(['training', 'validation'])\n",
    "plt.title('LSTM 16-hour segments, accuracy per epoch')\n",
    "plt.show()"
   ]
  },
  {
   "cell_type": "code",
   "execution_count": 230,
   "metadata": {},
   "outputs": [],
   "source": [
    "test_data = X_test_scaled_res \n",
    "test_targets = test_labels"
   ]
  },
  {
   "cell_type": "code",
   "execution_count": 231,
   "metadata": {
    "scrolled": false
   },
   "outputs": [
    {
     "name": "stdout",
     "output_type": "stream",
     "text": [
      "Epoch 1/12\n",
      "1244/1244 [==============================] - 1075s 860ms/step - loss: nan - accuracy: 0.6423\n",
      "Epoch 2/12\n",
      "1244/1244 [==============================] - 1142s 918ms/step - loss: nan - accuracy: 0.6501\n",
      "Epoch 3/12\n",
      "1244/1244 [==============================] - 1125s 905ms/step - loss: nan - accuracy: 0.6477\n",
      "Epoch 4/12\n",
      "1244/1244 [==============================] - 1088s 875ms/step - loss: nan - accuracy: 0.6412\n",
      "Epoch 5/12\n",
      "1244/1244 [==============================] - 1093s 879ms/step - loss: nan - accuracy: 0.6472\n",
      "Epoch 6/12\n",
      "1244/1244 [==============================] - 1118s 899ms/step - loss: nan - accuracy: 0.6399\n",
      "Epoch 7/12\n",
      "1244/1244 [==============================] - 1070s 860ms/step - loss: nan - accuracy: 0.6507\n",
      "Epoch 8/12\n",
      "1244/1244 [==============================] - 1150s 925ms/step - loss: nan - accuracy: 0.6452\n",
      "Epoch 9/12\n",
      "1244/1244 [==============================] - 1037s 833ms/step - loss: nan - accuracy: 0.6419\n",
      "Epoch 10/12\n",
      "1244/1244 [==============================] - 984s 791ms/step - loss: nan - accuracy: 0.6428\n",
      "Epoch 11/12\n",
      "1244/1244 [==============================] - 1019s 819ms/step - loss: nan - accuracy: 0.6465\n",
      "Epoch 12/12\n",
      "1244/1244 [==============================] - 1016s 817ms/step - loss: nan - accuracy: 0.6421\n",
      "156/156 [==============================] - 28s 170ms/step - loss: nan - accuracy: 0.6432\n"
     ]
    }
   ],
   "source": [
    "history_test = model.fit(train_data, train_targets,\n",
    "                        epochs=12, batch_size=16, verbose=1)\n",
    "test_mse_score, test_mae_score = model.evaluate(test_data, test_targets)"
   ]
  },
  {
   "cell_type": "code",
   "execution_count": 300,
   "metadata": {},
   "outputs": [
    {
     "name": "stdout",
     "output_type": "stream",
     "text": [
      "157/157 [==============================] - 15s 96ms/step - loss: 1.0575 - accuracy: 0.6533\n"
     ]
    }
   ],
   "source": [
    "y_pred = model.evaluate(X_test_scaled_res,test_labels)\n",
    "#print(y_pred)\n",
    "#print(test_labels)"
   ]
  },
  {
   "cell_type": "code",
   "execution_count": 302,
   "metadata": {},
   "outputs": [
    {
     "name": "stdout",
     "output_type": "stream",
     "text": [
      "[1.05751371383667, 0.6533306837081909]\n",
      "(4999, 1)\n"
     ]
    }
   ],
   "source": [
    "print(y_pred)\n",
    "print(test_labels.shape)"
   ]
  }
 ],
 "metadata": {
  "kernelspec": {
   "display_name": "Python 3",
   "language": "python",
   "name": "python3"
  },
  "language_info": {
   "codemirror_mode": {
    "name": "ipython",
    "version": 3
   },
   "file_extension": ".py",
   "mimetype": "text/x-python",
   "name": "python",
   "nbconvert_exporter": "python",
   "pygments_lexer": "ipython3",
   "version": "3.8.3"
  }
 },
 "nbformat": 4,
 "nbformat_minor": 4
}
