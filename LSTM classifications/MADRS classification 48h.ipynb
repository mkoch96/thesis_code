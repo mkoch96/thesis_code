{
 "cells": [
  {
   "cell_type": "code",
   "execution_count": 44,
   "metadata": {},
   "outputs": [],
   "source": [
    "import numpy as np\n",
    "import pandas as pd\n",
    "import seaborn as sns\n",
    "\n",
    "from sklearn.model_selection import train_test_split, cross_val_score, KFold\n",
    "from sklearn.preprocessing import StandardScaler, MinMaxScaler \n",
    "from sklearn.metrics import accuracy_score, classification_report, confusion_matrix \n",
    "\n",
    "import os\n",
    "import sys\n",
    "import random\n",
    "\n",
    "from matplotlib import pyplot as plt\n",
    "\n",
    "import tensorflow as tf\n",
    "from tensorflow import keras\n",
    "from tensorflow.keras.layers import Input, Dense, Dropout\n",
    "from tensorflow.keras import backend as K\n",
    "from tensorflow.keras.optimizers import SGD, Nadam, Adam\n",
    "from tensorflow.keras.utils import to_categorical\n",
    "from tensorflow.keras.callbacks import TensorBoard, EarlyStopping, ModelCheckpoint\n",
    "from tensorflow.keras.wrappers.scikit_learn import KerasRegressor\n",
    "from tensorflow.keras.models import Sequential, load_model\n",
    "\n",
    "from keras.models import Sequential\n",
    "from keras.layers import Dense, LSTM, Dropout\n",
    "from keras import optimizers"
   ]
  },
  {
   "cell_type": "code",
   "execution_count": 45,
   "metadata": {},
   "outputs": [],
   "source": [
    "# hyperparameters\n",
    "\n",
    "step = 60\n",
    "batch_size = 64\n",
    "optimizer = optimizers.Adam(lr = 0.00001, epsilon=0.1, clipnorm = 1)\n",
    "data_dir = \"Downloads/depression_data\"\n",
    "segment_length = 2880\n",
    "learning_rate = 0.00001"
   ]
  },
  {
   "cell_type": "code",
   "execution_count": 46,
   "metadata": {},
   "outputs": [],
   "source": [
    "MADRS_LABLES = ['Normal', 'Mild', 'Moderate']\n",
    "MADRS_VALUES = [0, 7, 20]\n",
    "classes = len(MADRS_VALUES)"
   ]
  },
  {
   "cell_type": "code",
   "execution_count": 47,
   "metadata": {},
   "outputs": [],
   "source": [
    "\"\"\"\n",
    "Create segments and labels for \"leave one participant out\" experiment on classifying depression classes\n",
    "- dataset_dir:      location of dataset files\n",
    "- segment_length:   length of each segment\n",
    "- step:             how many indexes to jump after each iteration\n",
    "- leave_out_id:     which participant that is left out, a random is selected if left as None\n",
    "Returns:\n",
    "- segments\n",
    "- labels\n",
    "- left_out_segments\n",
    "- left_out_correct\n",
    "- input_shape\n",
    "\"\"\"\n",
    "def create_segments_and_labels_madrs_loo(dataset_dir, segment_length, step, leave_out_id=None):\n",
    "    scores = pd.read_csv(os.path.join(dataset_dir, 'scores.csv'))\n",
    "    scores['madrs2'].fillna(0, inplace=True)\n",
    "    \n",
    "    segments = []\n",
    "    labels = []\n",
    "\n",
    "    left_out_segments = []\n",
    "    left_out_correct = None\n",
    "\n",
    "    if leave_out_id == None:\n",
    "        leave_out_id = random.randint(0, len(scores['number']))\n",
    "\n",
    "    for i, person in enumerate(scores['number']):\n",
    "        p = scores[scores['number'] == person]\n",
    "        filepath = os.path.join(dataset_dir, person.split('_')[0], f'{person}.csv')\n",
    "        df_activity = pd.read_csv(filepath)\n",
    "\n",
    "        p_label = None\n",
    "\n",
    "        for j in range(classes):\n",
    "            if p['madrs2'].values[0] >= MADRS_VALUES[classes - j - 1]:\n",
    "                p_label = classes - j - 1\n",
    "                break\n",
    "\n",
    "        assert p_label != None, f'Could not get target label: {p}'\n",
    "\n",
    "        # For the participant that we are leaving out\n",
    "        if i == leave_out_id:\n",
    "            left_out_correct = p_label\n",
    "\n",
    "        for j in range(0, len(df_activity) - segment_length, step):\n",
    "            segment = df_activity['activity'].values[j : j + segment_length]\n",
    "            \n",
    "            # For the participant that we are leaving out\n",
    "            if i == leave_out_id:\n",
    "                left_out_segments.append([segment])\n",
    "            else:\n",
    "                segments.append([segment])\n",
    "                labels.append(p_label)\n",
    "\n",
    "    #assert left_out_correct != None and len(left_out_segments) > 0, f'Did not set data for left out participant {leave_out_id}'\n",
    "    \n",
    "    labels = np.asarray(labels).astype('float32')\n",
    "    labels = to_categorical(labels, 3)\n",
    "    \n",
    "    segments = np.asarray(segments).reshape(-1, segment_length, 1)\n",
    "    left_out_segments = np.asarray(left_out_segments).reshape(-1, segment_length, 1)\n",
    "\n",
    "    num_time_periods, num_sensors = segments.shape[1], segments.shape[2]\n",
    "    input_shape = num_time_periods * num_sensors\n",
    "\n",
    "    segments = segments.reshape(segments.shape[0], input_shape).astype('float32')\n",
    "    left_out_segments = left_out_segments.reshape(left_out_segments.shape[0], input_shape).astype('float32')\n",
    "    \n",
    "    return segments, labels, input_shape"
   ]
  },
  {
   "cell_type": "code",
   "execution_count": 48,
   "metadata": {},
   "outputs": [],
   "source": [
    "segments, labels, input_shape = create_segments_and_labels_madrs_loo(data_dir,segment_length,step)"
   ]
  },
  {
   "cell_type": "code",
   "execution_count": 49,
   "metadata": {},
   "outputs": [
    {
     "name": "stdout",
     "output_type": "stream",
     "text": [
      "(18517, 2880)\n",
      "\n",
      "(4630, 2880)\n",
      "\n",
      "(18517, 3)\n",
      "\n",
      "(4630, 3)\n"
     ]
    }
   ],
   "source": [
    "# splitting dataset\n",
    "\n",
    "X_train, X_test, y_train, y_test = train_test_split(segments, labels, test_size=0.2, random_state=777)\n",
    "print(X_train.shape)\n",
    "print()\n",
    "print(X_test.shape)\n",
    "print()\n",
    "print(y_train.shape)\n",
    "print()\n",
    "print(y_test.shape)"
   ]
  },
  {
   "cell_type": "code",
   "execution_count": 50,
   "metadata": {},
   "outputs": [
    {
     "name": "stdout",
     "output_type": "stream",
     "text": [
      "[[ 240.  457.  713. ...  443.  292.  809.]\n",
      " [ 485.  338.  306. ...  783. 1954.  587.]\n",
      " [ 979. 1010. 1110. ...  666. 1076. 1221.]\n",
      " ...\n",
      " [1894. 1076.  919. ...    0.    0.    0.]\n",
      " [ 272.  272.  272. ...    3.   90.    0.]\n",
      " [   0.   27.  178. ...    0.    0.    0.]]\n",
      "[[0. 0. 1.]\n",
      " [1. 0. 0.]\n",
      " [1. 0. 0.]\n",
      " ...\n",
      " [1. 0. 0.]\n",
      " [1. 0. 0.]\n",
      " [1. 0. 0.]]\n"
     ]
    }
   ],
   "source": [
    "print(X_train)\n",
    "print(y_train)"
   ]
  },
  {
   "cell_type": "code",
   "execution_count": 51,
   "metadata": {},
   "outputs": [
    {
     "name": "stdout",
     "output_type": "stream",
     "text": [
      "(18517, 2880)\n",
      "\n",
      "(4630, 2880)\n",
      "\n",
      "(18517, 3)\n",
      "\n",
      "(4630, 3)\n"
     ]
    }
   ],
   "source": [
    "sc = MinMaxScaler(feature_range = (0,1))\n",
    "X_train_scaled = sc.fit_transform(X_train)\n",
    "X_test_scaled = sc.fit_transform(X_test)\n",
    "y_train_scaled = sc.fit_transform(y_train)\n",
    "y_test_scaled = sc.fit_transform(y_test)\n",
    "\n",
    "print(X_train_scaled.shape)\n",
    "print()\n",
    "print(X_test_scaled.shape)\n",
    "print()\n",
    "print(y_train_scaled.shape)\n",
    "print()\n",
    "print(y_test_scaled.shape)"
   ]
  },
  {
   "cell_type": "code",
   "execution_count": 52,
   "metadata": {},
   "outputs": [],
   "source": [
    "X_train_scaled_res = np.reshape(X_train_scaled, (X_train_scaled.shape[0], X_train_scaled.shape[1], 1))\n",
    "\n",
    "y_train_scaled_res = np.reshape(y_train_scaled, (y_train_scaled.shape[0], y_train_scaled.shape[1], 1))\n",
    "\n",
    "X_train_res = np.reshape(X_train, (X_train.shape[0], X_train.shape[1], 1))\n",
    "\n",
    "y_train_res = np.reshape(y_train, (y_train.shape[0], y_train.shape[1], 1))\n",
    "\n",
    "X_test_scaled_res = np.reshape(X_test_scaled, (X_test_scaled.shape[0], X_test_scaled.shape[1], 1))\n",
    "\n",
    "y_test_scaled_res = np.reshape(y_test_scaled, (y_test_scaled.shape[0], y_test_scaled.shape[1], 1))\n",
    "\n",
    "X_test_res = np.reshape(X_test, (X_test.shape[0], X_test.shape[1], 1))\n",
    "\n",
    "y_test_res = np.reshape(y_test, (y_test.shape[0], y_test.shape[1], 1))"
   ]
  },
  {
   "cell_type": "code",
   "execution_count": 53,
   "metadata": {},
   "outputs": [
    {
     "name": "stdout",
     "output_type": "stream",
     "text": [
      "(18517, 2880, 1)\n",
      "(18517, 3, 1)\n",
      "(4630, 2880, 1)\n",
      "(4630, 3, 1)\n"
     ]
    }
   ],
   "source": [
    "print(X_train_scaled_res.shape)\n",
    "print(y_train_scaled_res.shape)\n",
    "print(X_test_scaled_res.shape)\n",
    "print(y_test_scaled_res.shape)"
   ]
  },
  {
   "cell_type": "code",
   "execution_count": 54,
   "metadata": {},
   "outputs": [],
   "source": [
    "train_labels = np.argmax(y_train_scaled_res, axis=1)\n",
    "test_labels = np.argmax(y_test_scaled_res, axis=1)"
   ]
  },
  {
   "cell_type": "code",
   "execution_count": null,
   "metadata": {},
   "outputs": [],
   "source": []
  },
  {
   "cell_type": "code",
   "execution_count": 55,
   "metadata": {},
   "outputs": [],
   "source": [
    "def build_model():\n",
    "    model = Sequential()\n",
    "    model.add(LSTM(units = 30, return_sequences = True, input_shape = (X_train_scaled.shape[1], 1)))\n",
    "    model.add(Dropout(0.2))\n",
    "    model.add(LSTM(units = 30, return_sequences = True, activation = 'relu'))\n",
    "    model.add(Dropout(0.2))\n",
    "    model.add(Dense(1, activation='relu'))\n",
    "    model.compile(optimizer = optimizer, \n",
    "                  loss = \"sparse_categorical_crossentropy\", \n",
    "                  metrics = 'accuracy')\n",
    "    \n",
    "    return model"
   ]
  },
  {
   "cell_type": "code",
   "execution_count": 56,
   "metadata": {
    "scrolled": false
   },
   "outputs": [
    {
     "name": "stdout",
     "output_type": "stream",
     "text": [
      "processing fold # 0\n",
      "Epoch 1/4\n",
      "193/193 [==============================] - 441s 2s/step - loss: 10.5532 - accuracy: 0.6509 - val_loss: 7.9656 - val_accuracy: 0.6570\n",
      "Epoch 2/4\n",
      "193/193 [==============================] - 510s 3s/step - loss: 8.3662 - accuracy: 0.6426 - val_loss: 7.9656 - val_accuracy: 0.6570\n",
      "Epoch 3/4\n",
      "193/193 [==============================] - 496s 3s/step - loss: 7.9990 - accuracy: 0.6444 - val_loss: 7.9656 - val_accuracy: 0.6570\n",
      "Epoch 4/4\n",
      "193/193 [==============================] - 498s 3s/step - loss: 7.9758 - accuracy: 0.6524 - val_loss: 7.9656 - val_accuracy: 0.6570\n",
      "193/193 [==============================] - 67s 345ms/step - loss: 7.9656 - accuracy: 0.6570\n",
      "processing fold # 1\n",
      "Epoch 1/4\n",
      "193/193 [==============================] - 488s 3s/step - loss: 3.7237 - accuracy: 0.6555 - val_loss: 1.4283 - val_accuracy: 0.6518\n",
      "Epoch 2/4\n",
      "193/193 [==============================] - 466s 2s/step - loss: 1.5860 - accuracy: 0.6493 - val_loss: 1.2633 - val_accuracy: 0.6518\n",
      "Epoch 3/4\n",
      "193/193 [==============================] - 512s 3s/step - loss: 1.4316 - accuracy: 0.6517 - val_loss: 1.1765 - val_accuracy: 0.6518\n",
      "Epoch 4/4\n",
      "193/193 [==============================] - 496s 3s/step - loss: 1.3405 - accuracy: 0.6489 - val_loss: 1.1456 - val_accuracy: 0.6518\n",
      "193/193 [==============================] - 56s 289ms/step - loss: 1.1456 - accuracy: 0.6518\n",
      "processing fold # 2\n",
      "Epoch 1/4\n",
      "193/193 [==============================] - 458s 2s/step - loss: 8.0602 - accuracy: 0.6493 - val_loss: 7.9656 - val_accuracy: 0.6455\n",
      "Epoch 2/4\n",
      "193/193 [==============================] - 457s 2s/step - loss: 7.9667 - accuracy: 0.6545 - val_loss: 7.9656 - val_accuracy: 0.6455\n",
      "Epoch 3/4\n",
      "193/193 [==============================] - 464s 2s/step - loss: 7.9660 - accuracy: 0.6481 - val_loss: 7.9656 - val_accuracy: 0.6455\n",
      "Epoch 4/4\n",
      "193/193 [==============================] - 451s 2s/step - loss: 7.9656 - accuracy: 0.6535 - val_loss: 7.9656 - val_accuracy: 0.6455\n",
      "193/193 [==============================] - 57s 297ms/step - loss: 7.9656 - accuracy: 0.6455\n"
     ]
    }
   ],
   "source": [
    "train_data = X_train_scaled_res\n",
    "train_targets = train_labels\n",
    "k = 3\n",
    "num_val_samples = len(train_data) // k\n",
    "num_epochs = 4\n",
    "all_scores = [] # Should add the score of each run at the end of the loop\n",
    "all_mae_histories = []\n",
    "val_all_mae_histories = []\n",
    "\n",
    "for i in range(k):\n",
    "    print('processing fold #', i)\n",
    "    # Prepare the validation data: data from partition # k\n",
    "    val_data = train_data[i * num_val_samples: (i + 1) * num_val_samples]\n",
    "    val_targets = train_targets[i * num_val_samples: (i + 1) * num_val_samples]\n",
    "\n",
    "    # Prepare the training data: data from all other partitions\n",
    "    partial_train_data = np.concatenate(\n",
    "        [train_data[:i * num_val_samples],\n",
    "         train_data[(i + 1) * num_val_samples:]],\n",
    "        axis=0)\n",
    "    partial_train_targets = np.concatenate(\n",
    "        [train_targets[:i * num_val_samples],\n",
    "         train_targets[(i + 1) * num_val_samples:]],\n",
    "        axis=0)\n",
    "\n",
    "    # Build the Keras model \n",
    "    model = build_model()\n",
    "    # Train the model \n",
    "    history = model.fit(partial_train_data, partial_train_targets,\n",
    "                        validation_data=(val_data, val_targets),\n",
    "                        epochs=num_epochs, batch_size=batch_size, verbose=1)\n",
    "    mae_history = history.history['accuracy']\n",
    "    all_mae_histories.append(mae_history)\n",
    "    val_mae_history = history.history['val_accuracy']\n",
    "    val_all_mae_histories.append(val_mae_history)\n",
    "    \n",
    "    # Evaluate the model on the validation data\n",
    "    val_mse, val_mae = model.evaluate(val_data, val_targets, verbose=1)\n",
    "    all_scores.append(val_mae)"
   ]
  },
  {
   "cell_type": "code",
   "execution_count": 78,
   "metadata": {},
   "outputs": [
    {
     "name": "stdout",
     "output_type": "stream",
     "text": [
      "0.6514333333333334\n"
     ]
    }
   ],
   "source": [
    "print(np.mean([0.6570,0.6518,0.6455]))"
   ]
  },
  {
   "cell_type": "code",
   "execution_count": 73,
   "metadata": {},
   "outputs": [
    {
     "data": {
      "image/png": "[encoded data removed]",
      "text/plain": [
       "<Figure size 432x288 with 1 Axes>"
      ]
     },
     "metadata": {
      "needs_background": "light"
     },
     "output_type": "display_data"
    }
   ],
   "source": [
    "average_loss = [7.4456999999999995,5.9629666666666665,5.798866666666666,5.760633333333334]\n",
    "average_val_loss = [5.7865,5.7315,5.702566666666667,5.795733333333334]\n",
    "\n",
    "plt.plot(range(1, len(average_loss) + 1), average_loss)\n",
    "plt.plot(range(1, len(average_val_loss) + 1), average_val_loss)\n",
    "plt.xlabel('Epochs')\n",
    "plt.ylabel('Loss')\n",
    "plt.legend(['training', 'validation'])\n",
    "plt.title('LSTM 48-hour segments, loss (Cross-Entropy) per epoch')\n",
    "plt.show()"
   ]
  },
  {
   "cell_type": "code",
   "execution_count": 84,
   "metadata": {},
   "outputs": [
    {
     "data": {
      "image/png": "[encoded data removed]",
      "text/plain": [
       "<Figure size 432x288 with 1 Axes>"
      ]
     },
     "metadata": {
      "needs_background": "light"
     },
     "output_type": "display_data"
    }
   ],
   "source": [
    "average_loss = [0.6519,0.6488,0.6480666666666667,0.6516]\n",
    "average_val_loss = [0.6514333333333334,0.6514333333333334,0.6514333333333334,0.6514333333333334]\n",
    "\n",
    "plt.plot(range(1, len(average_loss) + 1), average_loss)\n",
    "plt.plot(range(1, len(average_val_loss) + 1), average_val_loss)\n",
    "plt.xlabel('Epochs')\n",
    "plt.ylabel('Accuracy')\n",
    "plt.legend(['training','validation'])\n",
    "plt.title('LSTM 48-hour segments, accuracy per epoch')\n",
    "plt.show()"
   ]
  },
  {
   "cell_type": "code",
   "execution_count": 59,
   "metadata": {},
   "outputs": [],
   "source": [
    "test_data = X_test_scaled_res \n",
    "test_targets = test_labels"
   ]
  },
  {
   "cell_type": "code",
   "execution_count": 60,
   "metadata": {},
   "outputs": [
    {
     "name": "stdout",
     "output_type": "stream",
     "text": [
      "145/145 [==============================] - 36s 245ms/step - loss: 7.9656 - accuracy: 0.6443\n"
     ]
    }
   ],
   "source": [
    "test_data = X_test_scaled_res \n",
    "test_targets = test_labels\n",
    "y_pred = model.evaluate(X_test_scaled_res,test_labels)"
   ]
  }
 ],
 "metadata": {
  "kernelspec": {
   "display_name": "Python 3",
   "language": "python",
   "name": "python3"
  },
  "language_info": {
   "codemirror_mode": {
    "name": "ipython",
    "version": 3
   },
   "file_extension": ".py",
   "mimetype": "text/x-python",
   "name": "python",
   "nbconvert_exporter": "python",
   "pygments_lexer": "ipython3",
   "version": "3.8.3"
  }
 },
 "nbformat": 4,
 "nbformat_minor": 4
}
